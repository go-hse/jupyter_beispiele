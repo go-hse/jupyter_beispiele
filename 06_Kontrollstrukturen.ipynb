{
 "cells": [
  {
   "cell_type": "markdown",
   "metadata": {},
   "source": [
    "# Einführung in Kontrollstrukturen in Python\n",
    "\n",
    "In diesem Notebook lernen wir die Grundlagen der Kontrollstrukturen in Python kennen. Kontrollstrukturen ermöglichen es uns, den Ablauf eines Programms zu steuern, Entscheidungen zu treffen und Codeblöcke wiederholt auszuführen."
   ]
  },
  {
   "cell_type": "markdown",
   "metadata": {},
   "source": [
    "## 1. Bedingte Anweisungen: `if`, `elif`, `else`\n",
    "\n",
    "Mit bedingten Anweisungen können wir Entscheidungen in unserem Code treffen. Der `if`-Block wird ausgeführt, wenn eine bestimmte Bedingung wahr ist. Mit `elif` (else if) können wir zusätzliche Bedingungen prüfen, und mit `else` können wir einen Codeblock definieren, der ausgeführt wird, wenn keine der vorhergehenden Bedingungen wahr ist."
   ]
  },
  {
   "cell_type": "code",
   "execution_count": 1,
   "metadata": {},
   "outputs": [
    {
     "name": "stdout",
     "output_type": "stream",
     "text": [
      "x ist positiv\n"
     ]
    }
   ],
   "source": [
    "# Beispiel für bedingte Anweisungen\n",
    "x = 10\n",
    "\n",
    "if x > 0:\n",
    "    print(\"x ist positiv\")\n",
    "elif x < 0:\n",
    "    print(\"x ist negativ\")\n",
    "else:\n",
    "    print(\"x ist null\")"
   ]
  },
  {
   "cell_type": "markdown",
   "metadata": {},
   "source": [
    "## 2. Schleifen: `for` und `while`\n",
    "\n",
    "Schleifen erlauben es uns, Codeblöcke wiederholt auszuführen. In Python gibt es zwei Haupttypen von Schleifen: `for`-Schleifen und `while`-Schleifen."
   ]
  },
  {
   "cell_type": "markdown",
   "metadata": {},
   "source": [
    "### 2.1. Die `for`-Schleife\n",
    "\n",
    "Die `for`-Schleife wird verwendet, um eine Sequenz (wie eine Liste, ein Tuple, ein Dictionary, eine Menge oder eine Zeichenkette) zu durchlaufen. Sie wird für eine feste Anzahl von Iterationen ausgeführt."
   ]
  },
  {
   "cell_type": "code",
   "execution_count": 2,
   "metadata": {},
   "outputs": [
    {
     "name": "stdout",
     "output_type": "stream",
     "text": [
      "Apfel\n",
      "Banane\n",
      "Kirsche\n"
     ]
    }
   ],
   "source": [
    "# Beispiel für eine for-Schleife\n",
    "fruits = [\"Apfel\", \"Banane\", \"Kirsche\"]\n",
    "\n",
    "for fruit in fruits:\n",
    "    print(fruit)"
   ]
  },
  {
   "cell_type": "markdown",
   "metadata": {},
   "source": [
    "Im Zusammenhang mit der `for`-Schleife wird oft der `range`-Befehl verwendet. Er erzeugt eine Sequenz von Zahlen, über die iteriert werden kann. Nähere Informationen finden Sie unter https://www.w3schools.com/python/ref_func_range.asp"
   ]
  },
  {
   "cell_type": "markdown",
   "metadata": {},
   "source": [
    "### 2.2. Die `while`-Schleife\n",
    "\n",
    "Die `while`-Schleife wird verwendet, um einen Codeblock so lange auszuführen, wie eine bestimmte Bedingung wahr ist. Sie eignet sich besonders für Schleifen, deren Anzahl der Iterationen im Voraus nicht bekannt ist."
   ]
  },
  {
   "cell_type": "code",
   "execution_count": 3,
   "metadata": {},
   "outputs": [
    {
     "name": "stdout",
     "output_type": "stream",
     "text": [
      "Der Zähler ist: 0\n",
      "Der Zähler ist: 1\n",
      "Der Zähler ist: 2\n",
      "Der Zähler ist: 3\n",
      "Der Zähler ist: 4\n"
     ]
    }
   ],
   "source": [
    "# Beispiel für eine while-Schleife\n",
    "count = 0\n",
    "\n",
    "while count < 5:\n",
    "    print(f\"Der Zähler ist: {count}\")\n",
    "    count += 1"
   ]
  },
  {
   "cell_type": "markdown",
   "metadata": {},
   "source": [
    "## 3. Schleifensteuerung: `break`, `continue`, `pass`\n",
    "\n",
    "In Python können wir die Ausführung von Schleifen mit den Anweisungen `break`, `continue` und `pass` steuern."
   ]
  },
  {
   "cell_type": "markdown",
   "metadata": {},
   "source": [
    "### 3.1. `break`\n",
    "\n",
    "Die `break`-Anweisung wird verwendet, um eine Schleife vorzeitig zu beenden, unabhängig davon, ob die Bedingung wahr ist oder ob noch Elemente in einer Sequenz vorhanden sind."
   ]
  },
  {
   "cell_type": "code",
   "execution_count": null,
   "metadata": {},
   "outputs": [],
   "source": [
    "# Beispiel für die Verwendung von break\n",
    "for i in range(10):\n",
    "    if i == 5:\n",
    "        break  # Schleife wird beendet, wenn i gleich 5 ist\n",
    "    print(i)"
   ]
  },
  {
   "cell_type": "markdown",
   "metadata": {},
   "source": [
    "### 3.2. `continue`\n",
    "\n",
    "Die `continue`-Anweisung überspringt den aktuellen Schleifendurchlauf und setzt die Schleife mit der nächsten Iteration fort."
   ]
  },
  {
   "cell_type": "code",
   "execution_count": null,
   "metadata": {},
   "outputs": [],
   "source": [
    "# Beispiel für die Verwendung von continue\n",
    "for i in range(10):\n",
    "    if i % 2 == 0:\n",
    "        continue  # Überspringt die Iteration, wenn i gerade ist\n",
    "    print(i)"
   ]
  },
  {
   "cell_type": "markdown",
   "metadata": {},
   "source": [
    "### 3.3. `pass`\n",
    "\n",
    "Die `pass`-Anweisung ist eine Null-Anweisung. Sie wird verwendet, wenn eine Anweisung syntaktisch erforderlich ist, aber kein Code ausgeführt werden soll. Dies ist oft der Fall bei Platzhaltern für zukünftige Implementierungen."
   ]
  },
  {
   "cell_type": "code",
   "execution_count": null,
   "metadata": {},
   "outputs": [],
   "source": [
    "# Beispiel für die Verwendung von pass\n",
    "for i in range(10):\n",
    "    if i < 5:\n",
    "        pass  # Platzhalter - nichts passiert\n",
    "    else:\n",
    "        print(i)"
   ]
  },
  {
   "cell_type": "markdown",
   "metadata": {},
   "source": [
    "## 4. Fazit\n",
    "\n",
    "Kontrollstrukturen sind essenziell, um den Ablauf eines Programms zu steuern. Bedingte Anweisungen ermöglichen es uns, Entscheidungen zu treffen, und Schleifen erlauben es uns, Codeblöcke wiederholt auszuführen. Mit den Anweisungen `break`, `continue` und `pass` können wir zusätzlich steuern, wie diese Schleifen ausgeführt werden."
   ]
  }
 ],
 "metadata": {
  "kernelspec": {
   "display_name": "Python 3 (ipykernel)",
   "language": "python",
   "name": "python3"
  },
  "language_info": {
   "codemirror_mode": {
    "name": "ipython",
    "version": 3
   },
   "file_extension": ".py",
   "mimetype": "text/x-python",
   "name": "python",
   "nbconvert_exporter": "python",
   "pygments_lexer": "ipython3",
   "version": "3.12.5"
  }
 },
 "nbformat": 4,
 "nbformat_minor": 4
}
