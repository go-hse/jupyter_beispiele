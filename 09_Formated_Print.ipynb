{
  "cells": [
    {
      "cell_type": "markdown",
      "metadata": {},
      "source": [
        "# Formatierte Ausgabe mit F-Strings in Python\n",
        "In diesem Notebook werden Beispiele für die formatierte Ausgabe mit F-Strings in Python gezeigt. Wir gehen auch auf die Ausrichtung und die Formatierung von Vor- und Nachkommastellen ein."
      ]
    },
    {
      "cell_type": "markdown",
      "metadata": {},
      "source": [
        "## Einfache Verwendung von F-Strings\n",
        "F-Strings ermöglichen es, Variablen direkt in Strings einzufügen. Hier ein einfaches Beispiel:"
      ]
    },
    {
      "cell_type": "code",
      "execution_count": null,
      "metadata": {},
      "outputs": [],
      "source": [
        "name = \"Alice\"\n",
        "alter = 30\n",
        "print(f\"{name} ist {alter} Jahre alt.\")"
      ]
    },
    {
      "cell_type": "markdown",
      "metadata": {},
      "source": [
        "## Ausrichtung von Text\n",
        "Mit F-Strings kann man Text links-, rechts- oder zentriert ausrichten. Hier ein Beispiel:"
      ]
    },
    {
      "cell_type": "code",
      "execution_count": null,
      "metadata": {},
      "outputs": [],
      "source": [
        "text = \"Python\"\n",
        "print(f\"{text:<10}\")  # Linksbündig\n",
        "print(f\"{text:>10}\")  # Rechtsbündig\n",
        "print(f\"{text:^10}\")  # Zentriert"
      ]
    },
    {
      "cell_type": "markdown",
      "metadata": {},
      "source": [
        "## Formatierung von Zahlen\n",
        "Man kann die Anzahl der Nachkommastellen bei Fließkommazahlen festlegen. Hier ein Beispiel:"
      ]
    },
    {
      "cell_type": "code",
      "execution_count": null,
      "metadata": {},
      "outputs": [],
      "source": [
        "zahl = 123.456789\n",
        "print(f\"{zahl:.2f}\")  # Zwei Nachkommastellen\n",
        "print(f\"{zahl:.4f}\")  # Vier Nachkommastellen"
      ]
    },
    {
      "cell_type": "markdown",
      "metadata": {},
      "source": [
        "## Kombination von Ausrichtung und Formatierung\n",
        "Man kann Ausrichtung und Formatierung kombinieren. Hier ein Beispiel:"
      ]
    },
    {
      "cell_type": "code",
      "execution_count": null,
      "metadata": {},
      "outputs": [],
      "source": [
        "zahl = 123.456789\n",
        "print(f\"{zahl:<10.2f}\")  # Linksbündig mit zwei Nachkommastellen\n",
        "print(f\"{zahl:>10.2f}\")  # Rechtsbündig mit zwei Nachkommastellen\n",
        "print(f\"{zahl:^10.2f}\")  # Zentriert mit zwei Nachkommastellen"
      ]
    },
    {
      "cell_type": "markdown",
      "metadata": {},
      "source": [
        "## Auffüllen mit Nullen\n",
        "Man kann Zahlen mit führenden Nullen auffüllen. Hier ein Beispiel:"
      ]
    },
    {
      "cell_type": "code",
      "execution_count": null,
      "metadata": {},
      "outputs": [],
      "source": [
        "zahl = 42\n",
        "print(f\"{zahl:05}\")  # Auffüllen auf fünf Stellen mit führenden Nullen"
      ]
    }
  ],
  "metadata": {
    "kernelspec": {
      "display_name": "Python 3 (ipykernel)",
      "language": "python",
      "name": "python3"
    },
    "language_info": {
      "codemirror_mode": {
        "name": "ipython",
        "version": 3
      },
      "file_extension": ".py",
      "mimetype": "text/x-python",
      "name": "python",
      "nbconvert_exporter": "python",
      "pygments_lexer": "ipython3",
      "version": "3.12.5"
    }
  },
  "nbformat": 4,
  "nbformat_minor": 4
}