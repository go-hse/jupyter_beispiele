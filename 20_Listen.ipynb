{
 "cells": [
  {
   "cell_type": "markdown",
   "metadata": {},
   "source": [
    "# Einführung in Listen in Python\n",
    "\n",
    "Listen sind eine der grundlegenden Datenstrukturen in Python. Sie ermöglichen es, mehrere Elemente in einer geordneten Sequenz zu speichern. Listen sind sehr flexibel und können verschiedene Datentypen enthalten."
   ]
  },
  {
   "cell_type": "markdown",
   "metadata": {},
   "source": [
    "## Erstellen und Manipulieren von Listen\n",
    "\n",
    "Eine Liste wird in Python mit eckigen Klammern `[]` erstellt. Die Elemente der Liste werden durch Kommas getrennt.\n",
    "\n",
    "Beispiele:"
   ]
  },
  {
   "cell_type": "code",
   "execution_count": 1,
   "metadata": {},
   "outputs": [
    {
     "name": "stdout",
     "output_type": "stream",
     "text": [
      "[]\n",
      "[1, 2, 3, 4, 5]\n",
      "[1, 'Hallo', 3.14, True]\n"
     ]
    }
   ],
   "source": [
    "# Eine leere Liste erstellen\n",
    "leere_liste = []\n",
    "print(leere_liste)\n",
    "\n",
    "# Eine Liste mit Zahlen erstellen\n",
    "zahlen_liste = [1, 2, 3, 4, 5]\n",
    "print(zahlen_liste)\n",
    "\n",
    "# Eine Liste mit verschiedenen Datentypen erstellen\n",
    "gemischte_liste = [1, \"Hallo\", 3.14, True]\n",
    "print(gemischte_liste)"
   ]
  },
  {
   "cell_type": "markdown",
   "metadata": {},
   "source": [
    "## Zugriff auf Listenelemente\n",
    "\n",
    "Auf Elemente in einer Liste kann über den Index zugegriffen werden. Der Index beginnt bei 0 für das erste Element, 1 für das zweite Element, und so weiter.\n",
    "\n",
    "Beispiele:"
   ]
  },
  {
   "cell_type": "code",
   "execution_count": 2,
   "metadata": {},
   "outputs": [
    {
     "name": "stdout",
     "output_type": "stream",
     "text": [
      "Erstes Element: 1\n",
      "Letztes Element: 5\n",
      "Liste nach Änderung: [1, 2, 10, 4, 5]\n"
     ]
    }
   ],
   "source": [
    "# Zugriff auf das erste Element\n",
    "erste_element = zahlen_liste[0]\n",
    "print(\"Erstes Element:\", erste_element)\n",
    "\n",
    "# Zugriff auf das letzte Element\n",
    "letztes_element = zahlen_liste[-1]\n",
    "print(\"Letztes Element:\", letztes_element)\n",
    "\n",
    "# Ändern eines Listenelements\n",
    "zahlen_liste[2] = 10\n",
    "print(\"Liste nach Änderung:\", zahlen_liste)"
   ]
  },
  {
   "cell_type": "markdown",
   "metadata": {},
   "source": [
    "## Wichtige Methoden für Listen\n",
    "\n",
    "Python bietet eine Reihe von Methoden, um Listen zu manipulieren. Hier sind einige der wichtigsten:"
   ]
  },
  {
   "cell_type": "markdown",
   "metadata": {},
   "source": [
    "### `append(x)`\n",
    "Fügt das Element `x` am Ende der Liste hinzu."
   ]
  },
  {
   "cell_type": "code",
   "execution_count": 3,
   "metadata": {},
   "outputs": [
    {
     "name": "stdout",
     "output_type": "stream",
     "text": [
      "Liste nach append: [1, 2, 10, 4, 5, 6]\n"
     ]
    }
   ],
   "source": [
    "# Beispiel für append\n",
    "zahlen_liste.append(6)\n",
    "print(\"Liste nach append:\", zahlen_liste)"
   ]
  },
  {
   "cell_type": "markdown",
   "metadata": {},
   "source": [
    "### `remove(x)`\n",
    "Entfernt das erste Vorkommen des Elements `x` aus der Liste."
   ]
  },
  {
   "cell_type": "code",
   "execution_count": 4,
   "metadata": {},
   "outputs": [
    {
     "name": "stdout",
     "output_type": "stream",
     "text": [
      "Liste nach remove: [1, 2, 4, 5, 6]\n"
     ]
    }
   ],
   "source": [
    "# Beispiel für remove\n",
    "zahlen_liste.remove(10)\n",
    "print(\"Liste nach remove:\", zahlen_liste)"
   ]
  },
  {
   "cell_type": "markdown",
   "metadata": {},
   "source": [
    "### `sort()`\n",
    "Sortiert die Liste in aufsteigender Reihenfolge."
   ]
  },
  {
   "cell_type": "code",
   "execution_count": 5,
   "metadata": {},
   "outputs": [
    {
     "name": "stdout",
     "output_type": "stream",
     "text": [
      "Liste nach sort: [1, 2, 4, 5, 6]\n"
     ]
    }
   ],
   "source": [
    "# Beispiel für sort\n",
    "zahlen_liste.sort()\n",
    "print(\"Liste nach sort:\", zahlen_liste)"
   ]
  },
  {
   "cell_type": "markdown",
   "metadata": {},
   "source": [
    "### `reverse()`\n",
    "Kehrt die Reihenfolge der Elemente in der Liste um."
   ]
  },
  {
   "cell_type": "code",
   "execution_count": 6,
   "metadata": {},
   "outputs": [
    {
     "name": "stdout",
     "output_type": "stream",
     "text": [
      "Liste nach reverse: [6, 5, 4, 2, 1]\n"
     ]
    }
   ],
   "source": [
    "# Beispiel für reverse\n",
    "zahlen_liste.reverse()\n",
    "print(\"Liste nach reverse:\", zahlen_liste)"
   ]
  },
  {
   "cell_type": "markdown",
   "metadata": {},
   "source": [
    "### `extend(iterable)`\n",
    "Erweitert die Liste, indem die Elemente des `iterable` (z. B. einer anderen Liste) an die Liste angehängt werden."
   ]
  },
  {
   "cell_type": "code",
   "execution_count": 7,
   "metadata": {},
   "outputs": [
    {
     "name": "stdout",
     "output_type": "stream",
     "text": [
      "Liste nach extend: [6, 5, 4, 2, 1, 7, 8, 9]\n"
     ]
    }
   ],
   "source": [
    "# Beispiel für extend\n",
    "zahlen_liste.extend([7, 8, 9])\n",
    "print(\"Liste nach extend:\", zahlen_liste)"
   ]
  }
 ],
 "metadata": {
  "kernelspec": {
   "display_name": "Python 3 (ipykernel)",
   "language": "python",
   "name": "python3"
  },
  "language_info": {
   "codemirror_mode": {
    "name": "ipython",
    "version": 3
   },
   "file_extension": ".py",
   "mimetype": "text/x-python",
   "name": "python",
   "nbconvert_exporter": "python",
   "pygments_lexer": "ipython3",
   "version": "3.12.5"
  }
 },
 "nbformat": 4,
 "nbformat_minor": 4
}
