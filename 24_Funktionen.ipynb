{
 "cells": [
  {
   "cell_type": "markdown",
   "metadata": {},
   "source": [
    "# Einführung in Funktionen in Python\n",
    "\n",
    "Funktionen sind ein zentraler Bestandteil der Programmierung und ermöglichen es, wiederverwendbaren Code zu schreiben. In Python werden Funktionen verwendet, um eine Gruppe von Anweisungen zu definieren, die ausgeführt werden, wenn die Funktion aufgerufen wird."
   ]
  },
  {
   "cell_type": "markdown",
   "metadata": {},
   "source": [
    "## Definition von Funktionen\n",
    "\n",
    "Eine Funktion in Python wird mit dem Schlüsselwort `def` definiert, gefolgt vom Namen der Funktion und einer Klammer, die Parameter enthalten kann."
   ]
  },
  {
   "cell_type": "code",
   "execution_count": null,
   "metadata": {},
   "outputs": [],
   "source": [
    "# Beispiel für eine einfache Funktion\n",
    "def begruessung():\n",
    "    print(\"Hallo, willkommen zu Python!\")"
   ]
  },
  {
   "cell_type": "markdown",
   "metadata": {},
   "source": [
    "## Aufruf von Funktionen\n",
    "\n",
    "Nachdem eine Funktion definiert wurde, kann sie durch ihren Namen aufgerufen werden. Dies führt dazu, dass der in der Funktion enthaltene Code ausgeführt wird."
   ]
  },
  {
   "cell_type": "code",
   "execution_count": null,
   "metadata": {},
   "outputs": [],
   "source": [
    "# Aufruf der Funktion\n",
    "begruessung()"
   ]
  },
  {
   "cell_type": "markdown",
   "metadata": {},
   "source": [
    "## Parameter und Argumente\n",
    "\n",
    "Funktionen können Parameter haben, die beim Aufruf der Funktion übergeben werden. Diese Parameter fungieren als Platzhalter für die Werte, die bei jedem Aufruf verwendet werden."
   ]
  },
  {
   "cell_type": "code",
   "execution_count": null,
   "metadata": {},
   "outputs": [],
   "source": [
    "# Funktion mit Parameter\n",
    "def begruessung_personalisiert(name):\n",
    "    print(f\"Hallo, {name}! Willkommen zu Python!\")\n",
    "\n",
    "# Aufruf der Funktion mit einem Argument\n",
    "begruessung_personalisiert(\"Max\")"
   ]
  },
  {
   "cell_type": "markdown",
   "metadata": {},
   "source": [
    "## Rückgabe von Werten\n",
    "\n",
    "Funktionen können auch Werte zurückgeben, die dann von anderen Teilen des Programms weiterverwendet werden können. Dies geschieht mit dem Schlüsselwort `return`."
   ]
  },
  {
   "cell_type": "code",
   "execution_count": null,
   "metadata": {},
   "outputs": [],
   "source": [
    "# Funktion, die einen Wert zurückgibt\n",
    "def addiere(a, b):\n",
    "    return a + b\n",
    "\n",
    "# Nutzung der Rückgabe der Funktion\n",
    "ergebnis = addiere(3, 4)\n",
    "print(\"Das Ergebnis ist:\", ergebnis)"
   ]
  },
  {
   "cell_type": "markdown",
   "metadata": {},
   "source": [
    "## Warum sind Funktionen wichtig?\n",
    "\n",
    "Funktionen helfen dabei, den Code zu strukturieren und zu organisieren. Sie ermöglichen die Wiederverwendung von Code und machen Programme leichter verständlich und wartbar. Anstatt denselben Code mehrfach zu schreiben, kann eine Funktion definiert und bei Bedarf aufgerufen werden."
   ]
  },
  {
   "cell_type": "markdown",
   "metadata": {},
   "source": [
    "## Best Practices für Funktionen\n",
    "\n",
    "- **Aussagekräftige Namen:** Funktionen sollten Namen haben, die ihre Funktionalität beschreiben.\n",
    "- **Kurze und prägnante Funktionen:** Eine Funktion sollte idealerweise nur eine Aufgabe erfüllen und nicht zu lang sein.\n",
    "- **Dokumentation:** Funktionen sollten mit Kommentaren oder Docstrings versehen werden, um ihre Verwendung zu erklären.\n",
    "- **Vermeiden von globalen Variablen:** Funktionen sollten nach Möglichkeit mit Parametern arbeiten und nicht auf globale Variablen angewiesen sein."
   ]
  },
  {
   "cell_type": "code",
   "execution_count": null,
   "metadata": {},
   "outputs": [],
   "source": [
    "# Beispiel für eine gut dokumentierte Funktion\n",
    "def quadrat(x):\n",
    "    \"\"\"\n",
    "    Gibt das Quadrat einer Zahl zurück.\n",
    "    :param x: Die Zahl, die quadriert werden soll.\n",
    "    :return: Das Quadrat der Zahl x.\n",
    "    \"\"\"\n",
    "    return x * x\n",
    "\n",
    "# Nutzung der dokumentierten Funktion\n",
    "print(quadrat(5))"
   ]
  }
 ],
 "metadata": {
  "kernelspec": {
   "display_name": "Python 3 (ipykernel)",
   "language": "python",
   "name": "python3"
  },
  "language_info": {
   "codemirror_mode": {
    "name": "ipython",
    "version": 3
   },
   "file_extension": ".py",
   "mimetype": "text/x-python",
   "name": "python",
   "nbconvert_exporter": "python",
   "pygments_lexer": "ipython3",
   "version": "3.12.5"
  }
 },
 "nbformat": 4,
 "nbformat_minor": 4
}
