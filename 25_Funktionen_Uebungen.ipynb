{
  "cells": [
    {
      "cell_type": "markdown",
      "metadata": {},
      "source": [
        "# Übungsaufgaben zu Funktionen in Python\n",
        "\n",
        "Diese Übungen sollen Ihnen helfen, das Arbeiten mit Funktionen in Python zu üben. Jede Aufgabe fordert Sie auf, eine eigene Funktion zu schreiben und zu testen."
      ]
    },
    {
      "cell_type": "markdown",
      "metadata": {},
      "source": [
        "## Aufgabe 1: Quadratische Funktion\n",
        "\n",
        "Schreiben Sie eine Funktion `quadrat(x)`, die das Quadrat einer Zahl `x` berechnet und zurückgibt.\n",
        "\n",
        "Testen Sie die Funktion mit verschiedenen Werten."
      ]
    },
    {
      "cell_type": "code",
      "execution_count": null,
      "metadata": {},
      "outputs": [],
      "source": [
        "# Lösung für Aufgabe 1\n",
        "def quadrat\n",
        "\n",
        "# Testen der Funktion\n",
        "print(quadrat(3))  # Ausgabe: 9\n",
        "print(quadrat(5))  # Ausgabe: 25"
      ]
    },
    {
      "cell_type": "markdown",
      "metadata": {},
      "source": [
        "## Aufgabe 2: Durchschnittsberechnung\n",
        "\n",
        "Schreiben Sie eine Funktion `durchschnitt(liste)`, die eine Liste von Zahlen entgegennimmt und den Durchschnitt dieser Zahlen berechnet und zurückgibt.\n",
        "\n",
        "Testen Sie die Funktion mit verschiedenen Listen."
      ]
    },
    {
      "cell_type": "code",
      "execution_count": null,
      "metadata": {},
      "outputs": [],
      "source": [
        "# Lösung für Aufgabe 2\n",
        "def durchschnitt\n",
        "\n",
        "# Testen der Funktion\n",
        "print(durchschnitt([1, 2, 3, 4, 5]))  # Ausgabe: 3.0\n",
        "print(durchschnitt([10, 20, 30]))     # Ausgabe: 20.0"
      ]
    },
    {
      "cell_type": "markdown",
      "metadata": {},
      "source": [
        "## Aufgabe 3: Überprüfung auf Primzahl\n",
        "\n",
        "Schreiben Sie eine Funktion `ist_primzahl(n)`, die überprüft, ob eine Zahl `n` eine Primzahl ist. Die Funktion sollte `True` zurückgeben, wenn `n` eine Primzahl ist, und `False`, wenn dies nicht der Fall ist.\n",
        "\n",
        "Testen Sie die Funktion mit verschiedenen Werten."
      ]
    },
    {
      "cell_type": "code",
      "execution_count": null,
      "metadata": {},
      "outputs": [],
      "source": [
        "# Lösung für Aufgabe 3\n",
        "def ist_primzahl\n",
        "\n",
        "# Testen der Funktion\n",
        "print(ist_primzahl(7))  # Ausgabe: True\n",
        "print(ist_primzahl(10)) # Ausgabe: False"
      ]
    },
    {
      "cell_type": "markdown",
      "metadata": {},
      "source": [
        "## Aufgabe 4: Umkehrung eines Strings\n",
        "\n",
        "Schreiben Sie eine Funktion `umkehren(text)`, die einen String `text` entgegennimmt und den umgekehrten String zurückgibt.\n",
        "\n",
        "Testen Sie die Funktion mit verschiedenen Texten."
      ]
    },
    {
      "cell_type": "code",
      "execution_count": null,
      "metadata": {},
      "outputs": [],
      "source": [
        "# Lösung für Aufgabe 4\n",
        "def umkehren(text):\n",
        "    return text[::-1]\n",
        "\n",
        "# Testen der Funktion\n",
        "print(umkehren(\"Python\"))  # Ausgabe: nohtyP\n",
        "print(umkehren(\"Hallo\"))   # Ausgabe: ollaH"
      ]
    },
    {
      "cell_type": "markdown",
      "metadata": {},
      "source": [
        "## Aufgabe 5: FizzBuzz\n",
        "\n",
        "Schreiben Sie eine Funktion `fizzbuzz(n)`, die die Zahlen von 1 bis `n` durchläuft und für jede Zahl folgendes ausgibt:\n",
        "- `Fizz`, wenn die Zahl durch 3 teilbar ist,\n",
        "- `Buzz`, wenn die Zahl durch 5 teilbar ist,\n",
        "- `FizzBuzz`, wenn die Zahl sowohl durch 3 als auch durch 5 teilbar ist,\n",
        "- Die Zahl selbst, wenn keine der obigen Bedingungen zutrifft.\n",
        "\n",
        "Testen Sie die Funktion mit verschiedenen Werten für `n`."
      ]
    },
    {
      "cell_type": "code",
      "execution_count": null,
      "metadata": {},
      "outputs": [],
      "source": [
        "# Lösung für Aufgabe 5\n",
        "def fizzbuzz(n):\n",
        "    for i in range(1, n+1):\n",
        "        if i % 3 == 0 and i % 5 == 0:\n",
        "            print(\"FizzBuzz\")\n",
        "        elif i % 3 == 0:\n",
        "            print(\"Fizz\")\n",
        "        elif i % 5 == 0:\n",
        "            print(\"Buzz\")\n",
        "        else:\n",
        "            print(i)\n",
        "\n",
        "# Testen der Funktion\n",
        "fizzbuzz(15)"
      ]
    }
  ],
  "metadata": {
    "kernelspec": {
      "display_name": "Python 3 (ipykernel)",
      "language": "python",
      "name": "python3"
    },
    "language_info": {
      "codemirror_mode": {
        "name": "ipython",
        "version": 3
      },
      "file_extension": ".py",
      "mimetype": "text/x-python",
      "name": "python",
      "nbconvert_exporter": "python",
      "pygments_lexer": "ipython3",
      "version": "3.12.5"
    }
  },
  "nbformat": 4,
  "nbformat_minor": 4
}