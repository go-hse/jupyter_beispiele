{
 "cells": [
  {
   "cell_type": "markdown",
   "id": "ee273d27-0cd9-4f1b-baff-e34eec260dff",
   "metadata": {},
   "source": [
    "# Übersicht\n",
    "\n",
    "- [Einführung](http://localhost:8888/notebooks/01_Intro.ipynb)\n",
    "- [Datentypen](http://localhost:8888/notebooks/02_Datentypen.ipynb)\n",
    "- [Variablen](http://localhost:8888/notebooks/03_Variablen.ipynb)\n",
    "- [Arbeiten mit Variablen](http://localhost:8888/notebooks/04_Variablen_II.ipynb)\n",
    "- [Übungen zu Variablen](http://localhost:8888/notebooks/05_Variablen_Uebungen.ipynb)\n",
    "- [Kontrollstrukturen](http://localhost:8888/notebooks/06_Kontrollstrukturen.ipynb)\n",
    "- [Übungen zu Kontrollstrukturen](http://localhost:8888/notebooks/07_Kontrollstrukturen_if_Uebungen.ipynb)\n",
    "- [Ein- und Ausgabe](http://localhost:8888/notebooks/08_Print_Input.ipynb)\n",
    "- [Formatierte Ausgabe](http://localhost:8888/notebooks/09_Formated_Print.ipynb)\n",
    "- [Übungen zu For-Schleifen mit Listen](http://localhost:8888/notebooks/10_For_List_Uebungen.ipynb)\n",
    "- [Übungen zu For-Schleifen mit Bereichen (range)](http://localhost:8888/notebooks/11_For_Range_Uebungen.ipynb)\n",
    "- [Übungen zu While-Schleifen](http://localhost:8888/notebooks/12_While_Uebungen.ipynb)\n",
    "- [Listen](http://localhost:8888/notebooks/20_Listen.ipynb)\n",
    "- [Liste-Elemente (Slicing)](http://localhost:8888/notebooks/21_Listen_Slicing.ipynb)\n",
    "- [Dictionaries](http://localhost:8888/notebooks/22_Dictionaries.ipynb)\n",
    "- [Übungen zu Listen und Dictionaries](http://localhost:8888/notebooks/23_List_Dicts_Uebungen.ipynb)\n",
    "- [Funktionen](http://localhost:8888/notebooks/24_Funktionen.ipynb)\n",
    "- [Übungen zu Funktionen](http://localhost:8888/notebooks/25_Funktionen_Uebungen.ipynb)\n"
   ]
  }
 ],
 "metadata": {
  "kernelspec": {
   "display_name": "Python 3 (ipykernel)",
   "language": "python",
   "name": "python3"
  },
  "language_info": {
   "codemirror_mode": {
    "name": "ipython",
    "version": 3
   },
   "file_extension": ".py",
   "mimetype": "text/x-python",
   "name": "python",
   "nbconvert_exporter": "python",
   "pygments_lexer": "ipython3",
   "version": "3.12.5"
  }
 },
 "nbformat": 4,
 "nbformat_minor": 5
}
