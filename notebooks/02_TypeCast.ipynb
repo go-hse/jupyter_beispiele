{
    "cells": [
     {
      "cell_type": "markdown",
      "metadata": {},
      "source": [
       "# Typ-Umwandlungen in Python\n",
       "\n",
       "In Python können wir verschiedene Datentypen verwenden, wie z.B. Ganzzahlen (Integer), Fließkommazahlen (Float), Zeichenketten (String) und Listen. Es ist jedoch oft notwendig, Daten von einem Typ in einen anderen umzuwandeln, um bestimmte Operationen korrekt auszuführen. Dies nennt man **Typ-Umwandlung** oder **Typecasting**."
      ]
     },
     {
      "cell_type": "markdown",
      "metadata": {},
      "source": [
       "## Implizite und explizite Typ-Umwandlung\n",
       "\n",
       "1. **Implizite Typ-Umwandlung**: Python konvertiert automatisch einen Datentyp in einen anderen, wenn dies möglich ist, ohne dass der Programmierer explizit etwas tun muss.\n",
       "2. **Explizite Typ-Umwandlung**: Der Programmierer muss die Konvertierung explizit mit Hilfe von Funktionen wie `int()`, `float()`, `str()` usw. vornehmen."
      ]
     },
     {
      "cell_type": "code",
      "execution_count": 1,
      "metadata": {},
      "outputs": [],
      "source": [
       "# Beispiel für implizite Typ-Umwandlung\n",
       "a = 10   # Integer\n",
       "b = 3.5  # Float\n",
       "c = a + b\n",
       "print(c)  # Ausgabe ist float, weil Python den Integer a implizit in float umwandelt"
      ]
     },
     {
      "cell_type": "code",
      "execution_count": 2,
      "metadata": {},
      "outputs": [],
      "source": [
       "# Beispiel für explizite Typ-Umwandlung\n",
       "a = 10   # Integer\n",
       "b = \"15\"  # String\n",
       "\n",
       "# Konvertiere b von String zu Integer, um es mit a zu addieren\n",
       "c = a + int(b)\n",
       "print(c)  # Ausgabe: 25"
      ]
     },
     {
      "cell_type": "markdown",
      "metadata": {},
      "source": [
       "## Umwandlung von Zeichenketten in Zahlen und umgekehrt\n",
       "\n",
       "Oft müssen Zeichenketten (Strings), die numerische Werte enthalten, in tatsächliche Zahlen (Integer oder Float) umgewandelt werden, um mathematische Operationen durchzuführen. Ebenso kann es erforderlich sein, Zahlen in Zeichenketten umzuwandeln, z.B. um sie zu drucken oder in Dateien zu speichern."
      ]
     },
     {
      "cell_type": "code",
      "execution_count": 3,
      "metadata": {},
      "outputs": [],
      "source": [
       "# Umwandlung von Zeichenkette in Zahl\n",
       "string_number = \"100\"\n",
       "number = int(string_number)  # Umwandlung in Integer\n",
       "print(number * 2)  # Ausgabe: 200"
      ]
     },
     {
      "cell_type": "code",
      "execution_count": 4,
      "metadata": {},
      "outputs": [],
      "source": [
       "# Umwandlung von Zahl in Zeichenkette\n",
       "number = 123\n",
       "string_number = str(number)  # Umwandlung in String\n",
       "print(\"Die Zahl ist: \" + string_number)"
      ]
     },
     {
      "cell_type": "markdown",
      "metadata": {},
      "source": [
       "## Warum sind Typ-Umwandlungen wichtig?\n",
       "\n",
       "1. **Kompatibilität von Daten**: In vielen Fällen müssen unterschiedliche Datentypen miteinander kombiniert oder verarbeitet werden, z.B. beim Einlesen von Daten aus Dateien (oft als Zeichenketten) oder beim Arbeiten mit Benutzer-Eingaben.\n",
       "2. **Vermeidung von Fehlern**: Ohne korrekte Typ-Umwandlung kann es zu Laufzeitfehlern kommen, z.B. wenn versucht wird, eine Zeichenkette mit einer Zahl zu addieren. Python wirft in solchen Fällen einen `TypeError`.\n",
       "3. **Effizienz**: Implizite Typ-Umwandlungen, die Python automatisch vornimmt, sind oft effizient und vermeiden unnötige Konvertierungen durch den Programmierer. Trotzdem sollte man sich der Typen bewusst sein, um Fehler zu vermeiden."
      ]
     },
     {
      "cell_type": "markdown",
      "metadata": {},
      "source": [
       "### Häufige Funktionen für die Typ-Umwandlung\n",
       "- `int()` – Konvertiert in einen Integer\n",
       "- `float()` – Konvertiert in eine Fließkommazahl\n",
       "- `str()` – Konvertiert in eine Zeichenkette\n",
       "- `bool()` – Konvertiert in einen booleschen Wert (True/False)"
      ]
     },
     {
      "cell_type": "code",
      "execution_count": 5,
      "metadata": {},
      "outputs": [],
      "source": [
       "# Verschiedene Typ-Umwandlungen\n",
       "x = 5  # Integer\n",
       "print(float(x))  # Ausgabe: 5.0\n",
       "\n",
       "y = 3.14  # Float\n",
       "print(int(y))  # Ausgabe: 3\n",
       "\n",
       "z = 0  # Integer\n",
       "print(bool(z))  # Ausgabe: False, da 0 als False gilt\n",
       "\n",
       "string_value = \"True\"\n",
       "print(bool(string_value))  # Ausgabe: True, da nicht-leere Strings als True gelten"
      ]
     }
    ],
    "metadata": {
     "kernelspec": {
      "display_name": "Python 3",
      "language": "python",
      "name": "python3"
     },
     "language_info": {
      "codemirror_mode": {
       "name": "ipython",
       "version": 3
      },
      "file_extension": ".py",
      "mimetype": "text/x-python",
      "name": "python",
      "nbconvert_exporter": "python",
      "pygments_lexer": "ipython3",
      "version": "3.8.5"
     }
    },
    "nbformat": 4,
    "nbformat_minor": 5
   }
   