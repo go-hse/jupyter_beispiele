{
 "cells": [
  {
   "cell_type": "markdown",
   "metadata": {},
   "source": [
    "# Variablen in Python\n",
    "\n",
    "In diesem Notebook werden wir die Konzepte von Variablen in Python verstehen, warum sie wichtig sind, und wie man sie korrekt verwendet. Zusätzlich werden wir uns Benennungskonventionen und Best Practices für die Arbeit mit Variablen anschauen."
   ]
  },
  {
   "cell_type": "markdown",
   "metadata": {},
   "source": [
    "## 1. Was sind Variablen?\n",
    "\n",
    "Eine Variable ist ein benannter Speicherplatz in dem Arbeitsspeicher eines Computers. Sie dient dazu, Daten (z.B. Zahlen, Zeichenketten oder Objekte) zu speichern, auf die später im Programm zugegriffen und die verändert werden können.\n",
    "\n",
    "Man kann sich eine Variable als einen Behälter vorstellen, der Daten enthält. Der Name der Variable ist das Etikett auf dem Behälter, das uns sagt, was im Behälter steckt."
   ]
  },
  {
   "cell_type": "code",
   "execution_count": null,
   "metadata": {},
   "outputs": [],
   "source": [
    "# Beispiel für die Zuweisung einer Variable:\n",
    "x = 10  # Zuweisung der Zahl 10 an die Variable x\n",
    "message = \"Hallo, Welt!\"  # Zuweisung einer Zeichenkette an die Variable message\n",
    "\n",
    "print(x)  # Ausgabe des Werts von x\n",
    "print(message)  # Ausgabe des Werts von message"
   ]
  },
  {
   "cell_type": "markdown",
   "metadata": {},
   "source": [
    "## 2. Warum sind Variablen wichtig?\n",
    "\n",
    "Variablen sind in der Programmierung unverzichtbar, weil sie es uns ermöglichen, Daten zu speichern, wiederzuverwenden und zu manipulieren. Ohne Variablen müssten wir jede Berechnung oder Datenmanipulation direkt mit den tatsächlichen Werten durchführen, was den Code schwer verständlich und schwer wartbar machen würde.\n",
    "\n",
    "Durch die Verwendung von Variablen können wir:\n",
    "- **Werte speichern:** Speichern von Daten, auf die später zugegriffen werden kann.\n",
    "- **Werte wiederverwenden:** Verwenden der gleichen Daten an verschiedenen Stellen im Programm.\n",
    "- **Daten manipulieren:** Daten verändern und in Berechnungen oder Algorithmen verwenden.\n",
    "- **Code lesbarer machen:** Variablen mit sinnvollen Namen machen den Code einfacher zu verstehen."
   ]
  },
  {
   "cell_type": "markdown",
   "metadata": {},
   "source": [
    "## 3. Benennung von Variablen\n",
    "\n",
    "Die Wahl des Namens einer Variable ist wichtig für die Lesbarkeit und Wartbarkeit des Codes. Es gibt einige Regeln und Konventionen, die man beim Benennen von Variablen beachten sollte."
   ]
  },
  {
   "cell_type": "markdown",
   "metadata": {},
   "source": [
    "### 3.1. Regeln für die Benennung von Variablen\n",
    "\n",
    "1. **Alphanumerische Zeichen:** Variablennamen dürfen Buchstaben (a-z, A-Z), Zahlen (0-9) und Unterstriche (_) enthalten. Sie dürfen keine Leerzeichen (\" \") enthalten.\n",
    "2. **Keine Zahlen am Anfang:** Ein Variablenname darf nicht mit einer Zahl beginnen.\n",
    "3. **Keine reservierten Schlüsselwörter:** Vermeide die Verwendung von Python-Schlüsselwörtern (z. B. `if`, `else`, `for`, `while`, etc.) als Variablennamen.\n",
    "4. **Groß- und Kleinschreibung:** Python unterscheidet zwischen Groß- und Kleinschreibung, d.h. `Variable`, `variable` und `VARIABLE` sind unterschiedliche Variablen."
   ]
  },
  {
   "cell_type": "code",
   "execution_count": null,
   "metadata": {},
   "outputs": [],
   "source": [
    "# Gültige Variablen:\n",
    "name = \"John\"\n",
    "age = 25\n",
    "_counter = 10\n",
    "PI = 3.14159\n",
    "\n",
    "# Ungültige Variable:\n",
    "1st_place = \"Goldmedaille\"  # Ungültig, da sie mit einer Zahl beginnt"
   ]
  },
  {
   "cell_type": "markdown",
   "metadata": {},
   "source": [
    "### 3.2. Best Practices für die Benennung von Variablen\n",
    "\n",
    "1. **Sprechende Namen:** Verwende Variablennamen, die den Zweck oder den Inhalt der Variable beschreiben (z. B. `age`, `total_price`, `user_name`).\n",
    "2. **Vermeide Ein-Buchstaben-Namen:** Ausnahme sind Schleifenvariablen (z. B. `i`, `j` für Zählervariablen).\n",
    "3. **Konventionen einhalten:** Verwende die Snake-Case-Konvention (`snake_case`), bei der mehrere Wörter durch Unterstriche getrennt werden, für Variablennamen.\n",
    "4. **Konsistenz:** Sei konsistent bei der Benennung von Variablen im gesamten Programm."
   ]
  },
  {
   "cell_type": "code",
   "execution_count": null,
   "metadata": {},
   "outputs": [],
   "source": [
    "# Beispiele für gute und schlechte Variablennamen:\n",
    "\n",
    "# Gute Namen:\n",
    "user_name = \"Alice\"\n",
    "total_price = 19.99\n",
    "max_value = 100\n",
    "\n",
    "# Schlechte Namen:\n",
    "x = \"Bob\"  # Nicht sprechend\n",
    "p = 9.99  # Nicht sprechend\n",
    "data = 42  # Zu allgemein"
   ]
  },
  {
   "cell_type": "markdown",
   "metadata": {},
   "source": [
    "## 4. Variablenzuweisung\n",
    "\n",
    "Die Zuweisung einer Variable erfolgt in Python mit dem Gleichheitszeichen `=`. Links vom Gleichheitszeichen steht der Variablenname und rechts der Wert, der der Variable zugewiesen werden soll."
   ]
  },
  {
   "cell_type": "code",
   "execution_count": null,
   "metadata": {},
   "outputs": [],
   "source": [
    "# Beispiel für Variablenzuweisungen:\n",
    "x = 5  # Zuweisung des Werts 5 an die Variable x\n",
    "y = 10  # Zuweisung des Werts 10 an die Variable y\n",
    "\n",
    "# Mehrfache Zuweisung\n",
    "a = b = c = 100  # Zuweisung des gleichen Werts an mehrere Variablen\n",
    "\n",
    "# Austausch der Werte zweier Variablen\n",
    "x, y = y, x  # Vertauscht die Werte von x und y\n",
    "\n",
    "print(x)\n",
    "print(y)\n",
    "print(a, b, c)"
   ]
  },
  {
   "cell_type": "markdown",
   "metadata": {},
   "source": [
    "## 5. Variablenarten\n",
    "\n",
    "In Python gibt es keine explizite Deklaration von Variablentypen. Die Variablenart wird dynamisch bestimmt, basierend auf dem zugewiesenen Wert. Das bedeutet, dass eine Variable in Python während der Laufzeit ihren Typ ändern kann. Siehe auch __[Datentypen](http://localhost:8888/notebooks/02_Datentypen.ipynb)__\n",
    "\n",
    "Beispiel:"
   ]
  },
  {
   "cell_type": "code",
   "execution_count": null,
   "metadata": {},
   "outputs": [],
   "source": [
    "# Beispiel für die dynamische Typisierung in Python:\n",
    "var = 10  # var ist eine Ganzzahl\n",
    "print(var, type(var))\n",
    "\n",
    "var = 3.14  # Jetzt ist var eine Gleitkommazahl\n",
    "print(var, type(var))\n",
    "\n",
    "var = \"Python\"  # Jetzt ist var eine Zeichenkette\n",
    "print(var, type(var))"
   ]
  },
  {
   "cell_type": "markdown",
   "metadata": {},
   "source": [
    "## Fazit\n",
    "\n",
    "Variablen sind ein fundamentales Konzept in der Programmierung und ermöglichen es uns, Daten zu speichern und zu manipulieren. In Python ist es wichtig, sinnvolle Variablennamen zu verwenden und die Best Practices bei der Benennung einzuhalten, um den Code lesbar und wartbar zu halten.\n",
    "\n",
    "Zurück zu __[Datentypen](http://localhost:8888/notebooks/02_Datentypen.ipynb)__\n",
    "\n",
    "Weiter zu __[Arbeiten mit Variablen](http://localhost:8888/notebooks/04_Variablen_II.ipynb)__\n",
    "\n",
    "[Übersicht](http://localhost:8888/notebooks/00_Uebersicht.ipynb)\n"
   ]
  }
 ],
 "metadata": {
  "kernelspec": {
   "display_name": "Python 3 (ipykernel)",
   "language": "python",
   "name": "python3"
  },
  "language_info": {
   "codemirror_mode": {
    "name": "ipython",
    "version": 3
   },
   "file_extension": ".py",
   "mimetype": "text/x-python",
   "name": "python",
   "nbconvert_exporter": "python",
   "pygments_lexer": "ipython3",
   "version": "3.12.5"
  }
 },
 "nbformat": 4,
 "nbformat_minor": 4
}
