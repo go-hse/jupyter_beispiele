{
 "cells": [
  {
   "cell_type": "markdown",
   "metadata": {},
   "source": [
    "# Datenspeicherung und Arbeiten mit Variablen in Python\n",
    "\n",
    "In diesem Notebook lernen wir die Grundlagen der Datenspeicherung in Python und wie man mit Variablen arbeitet. Wir werden die Zuweisung von Werten zu Variablen und das Arbeiten mit mehreren Variablen im Detail besprechen."
   ]
  },
  {
   "cell_type": "markdown",
   "metadata": {},
   "source": [
    "## 1. Was sind Variablen?\n",
    "\n",
    "Die Grundlagen sind im Notebook __[Variablen](http://localhost:8888/notebooks/03_Variablen.ipynb)__ zu finden."
   ]
  },
  {
   "cell_type": "markdown",
   "metadata": {},
   "source": [
    "## 2. Zuweisung von Werten zu Variablen\n",
    "\n",
    "In Python erfolgt die Zuweisung von Werten zu Variablen mit dem Gleichheitszeichen `=`. Der Ausdruck auf der rechten Seite des Gleichheitszeichens wird berechnet und das Ergebnis wird der Variablen auf der linken Seite zugewiesen."
   ]
  },
  {
   "cell_type": "code",
   "execution_count": null,
   "metadata": {},
   "outputs": [],
   "source": [
    "# Beispiel für die Zuweisung:\n",
    "x = 10  # Zuweisung der Zahl 10 zu der Variable x\n",
    "y = 5 + 3  # Die Summe von 5 und 3 wird y zugewiesen\n",
    "message = \"Hallo, Python!\"  # Eine Zeichenkette wird der Variable message zugewiesen\n",
    "\n",
    "print(x)\n",
    "print(y)\n",
    "print(message)"
   ]
  },
  {
   "cell_type": "markdown",
   "metadata": {},
   "source": [
    "## 3. Arbeiten mit mehreren Variablen\n",
    "\n",
    "In Python können mehrere Variablen verwendet werden, um komplexere Operationen durchzuführen. Wir können Variablen Werte zuweisen, die auf anderen Variablen basieren, und diese Variablen für Berechnungen verwenden."
   ]
  },
  {
   "cell_type": "code",
   "execution_count": null,
   "metadata": {},
   "outputs": [],
   "source": [
    "# Beispiel:\n",
    "a = 5\n",
    "b = 3\n",
    "c = a + b  # Die Summe von a und b wird c zugewiesen\n",
    "d = c * 2  # Das doppelte von c wird d zugewiesen\n",
    "\n",
    "print(\"a =\", a)\n",
    "print(\"b =\", b)\n",
    "print(\"c =\", c)\n",
    "print(\"d =\", d)"
   ]
  },
  {
   "cell_type": "markdown",
   "metadata": {},
   "source": [
    "### 3.1. Mehrfache Zuweisung\n",
    "\n",
    "Python ermöglicht es uns, mehreren Variablen gleichzeitig Werte zuzuweisen. Dies ist besonders nützlich, um den Code sauber und kompakt zu halten."
   ]
  },
  {
   "cell_type": "code",
   "execution_count": null,
   "metadata": {},
   "outputs": [],
   "source": [
    "# Beispiel für Mehrfachzuweisung:\n",
    "x, y, z = 1, 2, 3  # Zuweisung mehrerer Werte an mehrere Variablen\n",
    "\n",
    "print(\"x =\", x)\n",
    "print(\"y =\", y)\n",
    "print(\"z =\", z)"
   ]
  },
  {
   "cell_type": "markdown",
   "metadata": {},
   "source": [
    "### 3.2. Variablenwerte vertauschen\n",
    "\n",
    "Eine häufige Operation beim Arbeiten mit Variablen ist das Vertauschen ihrer Werte. In Python ist dies mit einer einzigen Anweisung möglich."
   ]
  },
  {
   "cell_type": "code",
   "execution_count": null,
   "metadata": {},
   "outputs": [],
   "source": [
    "# Beispiel für das Vertauschen von Variablenwerten:\n",
    "a = 10\n",
    "b = 20\n",
    "\n",
    "# Vertauschen der Werte von a und b\n",
    "a, b = b, a\n",
    "\n",
    "print(\"a =\", a)\n",
    "print(\"b =\", b)"
   ]
  },
  {
   "cell_type": "markdown",
   "metadata": {},
   "source": [
    "## 4. Variablen und Datentypen\n",
    "\n",
    "Variablen in Python können Daten verschiedener Typen speichern, wie z.B. Ganzzahlen (int), Gleitkommazahlen (float), Zeichenketten (str), Listen (list), etc. Python ist eine dynamisch typisierte Sprache, d.h. der Typ einer Variablen kann sich während der Laufzeit ändern."
   ]
  },
  {
   "cell_type": "code",
   "execution_count": null,
   "metadata": {},
   "outputs": [],
   "source": [
    "# Beispiel für die Arbeit mit verschiedenen Datentypen:\n",
    "x = 42  # x ist eine Ganzzahl\n",
    "print(x, type(x))\n",
    "\n",
    "x = 3.14  # Jetzt ist x eine Gleitkommazahl\n",
    "print(x, type(x))\n",
    "\n",
    "x = \"Python\"  # Jetzt ist x eine Zeichenkette\n",
    "print(x, type(x))"
   ]
  },
  {
   "cell_type": "markdown",
   "metadata": {},
   "source": [
    "## 5. Fazit\n",
    "\n",
    "Variablen sind eines der grundlegendsten Konzepte in der Programmierung. Sie ermöglichen es uns, Daten zu speichern, zu manipulieren und wiederzuverwenden. Das Arbeiten mit mehreren Variablen und das Verständnis von Zuweisungen sind essentielle Fähigkeiten, um effektiven und lesbaren Code zu schreiben.\n",
    "\n",
    "Zurück zu __[Variablen](http://localhost:8888/notebooks/03_Variablen.ipynb)__\n",
    "\n",
    "Weiter zu __[Übungen mit Variablen](http://localhost:8888/notebooks/05_Variablen_Uebungen.ipynb)__\n",
    "\n",
    "[Übersicht](http://localhost:8888/notebooks/00_Uebersicht.ipynb)"
   ]
  }
 ],
 "metadata": {
  "kernelspec": {
   "display_name": "Python 3 (ipykernel)",
   "language": "python",
   "name": "python3"
  },
  "language_info": {
   "codemirror_mode": {
    "name": "ipython",
    "version": 3
   },
   "file_extension": ".py",
   "mimetype": "text/x-python",
   "name": "python",
   "nbconvert_exporter": "python",
   "pygments_lexer": "ipython3",
   "version": "3.12.5"
  }
 },
 "nbformat": 4,
 "nbformat_minor": 4
}
