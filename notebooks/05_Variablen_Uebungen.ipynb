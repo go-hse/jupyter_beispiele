{
 "cells": [
  {
   "cell_type": "markdown",
   "metadata": {},
   "source": [
    "# Übungsaufgaben: Arbeiten mit Variablen in Python\n",
    "\n",
    "In diesem Notebook findest du 5 Übungsaufgaben, um das Arbeiten mit Variablen in Python zu üben. Versuche, jede Aufgabe zu lösen, bevor du die Musterlösung ansiehst."
   ]
  },
  {
   "cell_type": "markdown",
   "metadata": {},
   "source": [
    "## Aufgabe 1: Einfache Zuweisung\n",
    "\n",
    "Erstelle eine Variable `name` und weise ihr deinen Namen als Zeichenkette zu. Erstelle eine weitere Variable `age` und weise ihr dein Alter als Ganzzahl zu. Gib beide Variablen mit einem beschreibenden Text aus, z. B. \"Mein Name ist ... und ich bin ... Jahre alt.\"."
   ]
  },
  {
   "cell_type": "code",
   "execution_count": null,
   "metadata": {},
   "outputs": [],
   "source": [
    "# Lösung für Aufgabe 1\n",
    "name = "
   ]
  },
  {
   "cell_type": "markdown",
   "metadata": {},
   "source": [
    "## Aufgabe 2: Rechenoperationen mit Variablen\n",
    "\n",
    "Erstelle zwei Variablen `x` und `y` und weise ihnen zwei verschiedene Zahlen zu. Berechne die Summe, Differenz, das Produkt und den Quotienten der beiden Zahlen und speichere die Ergebnisse in den Variablen `summe`, `differenz`, `produkt` und `quotient`. Gib die Ergebnisse aus."
   ]
  },
  {
   "cell_type": "code",
   "execution_count": null,
   "metadata": {},
   "outputs": [],
   "source": [
    "# Lösung für Aufgabe 2\n",
    "x = "
   ]
  },
  {
   "cell_type": "markdown",
   "metadata": {},
   "source": [
    "## Aufgabe 3: Variablenwerte vertauschen\n",
    "\n",
    "Erstelle zwei Variablen `a` und `b` und weise ihnen zwei verschiedene Zahlen zu. Vertausche die Werte von `a` und `b`, ohne eine dritte Variable zu verwenden. Gib die neuen Werte von `a` und `b` aus."
   ]
  },
  {
   "cell_type": "code",
   "execution_count": null,
   "metadata": {},
   "outputs": [],
   "source": [
    "# Lösung für Aufgabe 3\n",
    "a = "
   ]
  },
  {
   "cell_type": "markdown",
   "metadata": {},
   "source": [
    "## Aufgabe 4: Mehrfache Zuweisung\n",
    "\n",
    "Weise den Variablen `x`, `y` und `z` die Werte 5, 10 und 15 in einer einzigen Zeile zu. Gib die Werte von `x`, `y` und `z` aus."
   ]
  },
  {
   "cell_type": "code",
   "execution_count": null,
   "metadata": {},
   "outputs": [],
   "source": [
    "# Lösung für Aufgabe 4\n",
    "x, "
   ]
  },
  {
   "cell_type": "markdown",
   "metadata": {},
   "source": [
    "## Aufgabe 5: Berechnung mit mehreren Variablen\n",
    "\n",
    "Erstelle drei Variablen `length`, `width` und `height`, die die Abmessungen eines Quaders (Länge, Breite, Höhe) speichern. Berechne das Volumen des Quaders und speichere das Ergebnis in der Variablen `volume`. Gib das Volumen aus."
   ]
  },
  {
   "cell_type": "code",
   "execution_count": null,
   "metadata": {},
   "outputs": [],
   "source": [
    "# Lösung für Aufgabe 5\n",
    "length = "
   ]
  },
  {
   "cell_type": "markdown",
   "metadata": {},
   "source": [
    "__[Lösungen](http://localhost:8888/notebooks/05_Variablen_Uebungen_Loesungen.ipynb)__"
   ]
  }
 ],
 "metadata": {
  "kernelspec": {
   "display_name": "Python 3 (ipykernel)",
   "language": "python",
   "name": "python3"
  },
  "language_info": {
   "codemirror_mode": {
    "name": "ipython",
    "version": 3
   },
   "file_extension": ".py",
   "mimetype": "text/x-python",
   "name": "python",
   "nbconvert_exporter": "python",
   "pygments_lexer": "ipython3",
   "version": "3.12.5"
  }
 },
 "nbformat": 4,
 "nbformat_minor": 4
}
