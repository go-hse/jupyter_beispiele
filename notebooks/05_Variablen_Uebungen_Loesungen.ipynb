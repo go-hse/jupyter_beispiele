{
 "cells": [
  {
   "cell_type": "markdown",
   "metadata": {},
   "source": [
    "# Übungsaufgaben: Arbeiten mit Variablen in Python\n",
    "\n",
    "In diesem Notebook finden Sie 5 Übungsaufgaben, um das Arbeiten mit Variablen in Python zu üben. Versuche, jede Aufgabe zu lösen, bevor Sie die Musterlösung ansiehen."
   ]
  },
  {
   "cell_type": "markdown",
   "metadata": {},
   "source": [
    "## Aufgabe 1: Einfache Zuweisung\n",
    "\n",
    "Erstelle eine Variable `name` und weise ihr deinen Namen als Zeichenkette zu. Erstelle eine weitere Variable `age` und weise ihr dein Alter als Ganzzahl zu. Gib beide Variablen mit einem beschreibenden Text aus, z. B. \"Mein Name ist ... und ich bin ... Jahre alt.\"."
   ]
  },
  {
   "cell_type": "code",
   "execution_count": null,
   "metadata": {},
   "outputs": [],
   "source": [
    "# Lösung für Aufgabe 1\n",
    "name = \"Dein Name\"  # Ersetze 'Dein Name' durch deinen tatsächlichen Namen\n",
    "age = 0  # Ersetze 0 durch dein tatsächliches Alter\n",
    "\n",
    "print(f\"Mein Name ist {name} und ich bin {age} Jahre alt.\")"
   ]
  },
  {
   "cell_type": "markdown",
   "metadata": {},
   "source": [
    "## Aufgabe 2: Rechenoperationen mit Variablen\n",
    "\n",
    "Erstelle zwei Variablen `x` und `y` und weise ihnen zwei verschiedene Zahlen zu. Berechne die Summe, Differenz, das Produkt und den Quotienten der beiden Zahlen und speichere die Ergebnisse in den Variablen `summe`, `differenz`, `produkt` und `quotient`. Gib die Ergebnisse aus."
   ]
  },
  {
   "cell_type": "code",
   "execution_count": null,
   "metadata": {},
   "outputs": [],
   "source": [
    "# Lösung für Aufgabe 2\n",
    "x = 10  # Ersetze 10 durch eine beliebige Zahl\n",
    "y = 5  # Ersetze 5 durch eine beliebige Zahl\n",
    "\n",
    "summe = x + y\n",
    "differenz = x - y\n",
    "produkt = x * y\n",
    "quotient = x / y\n",
    "\n",
    "print(f\"Summe: {summe}\")\n",
    "print(f\"Differenz: {differenz}\")\n",
    "print(f\"Produkt: {produkt}\")\n",
    "print(f\"Quotient: {quotient}\")"
   ]
  },
  {
   "cell_type": "markdown",
   "metadata": {},
   "source": [
    "## Aufgabe 3: Variablenwerte vertauschen\n",
    "\n",
    "Erstelle zwei Variablen `a` und `b` und weise ihnen zwei verschiedene Zahlen zu. Vertausche die Werte von `a` und `b`, ohne eine dritte Variable zu verwenden. Gib die neuen Werte von `a` und `b` aus."
   ]
  },
  {
   "cell_type": "code",
   "execution_count": null,
   "metadata": {},
   "outputs": [],
   "source": [
    "# Lösung für Aufgabe 3\n",
    "a = 3  # Ersetze 3 durch eine beliebige Zahl\n",
    "b = 7  # Ersetze 7 durch eine beliebige Zahl\n",
    "\n",
    "# Vertauschen der Werte\n",
    "a, b = b, a\n",
    "\n",
    "print(f\"a = {a}\")\n",
    "print(f\"b = {b}\")"
   ]
  },
  {
   "cell_type": "markdown",
   "metadata": {},
   "source": [
    "## Aufgabe 4: Mehrfache Zuweisung\n",
    "\n",
    "Weise den Variablen `x`, `y` und `z` die Werte 5, 10 und 15 in einer einzigen Zeile zu. Gib die Werte von `x`, `y` und `z` aus."
   ]
  },
  {
   "cell_type": "code",
   "execution_count": null,
   "metadata": {},
   "outputs": [],
   "source": [
    "# Lösung für Aufgabe 4\n",
    "x, y, z = 5, 10, 15\n",
    "\n",
    "print(f\"x = {x}\")\n",
    "print(f\"y = {y}\")\n",
    "print(f\"z = {z}\")"
   ]
  },
  {
   "cell_type": "markdown",
   "metadata": {},
   "source": [
    "## Aufgabe 5: Berechnung mit mehreren Variablen\n",
    "\n",
    "Erstelle drei Variablen `length`, `width` und `height`, die die Abmessungen eines Quaders (Länge, Breite, Höhe) speichern. Berechne das Volumen des Quaders und speichere das Ergebnis in der Variablen `volume`. Gib das Volumen aus."
   ]
  },
  {
   "cell_type": "code",
   "execution_count": null,
   "metadata": {},
   "outputs": [],
   "source": [
    "# Lösung für Aufgabe 5\n",
    "length = 2  # Ersetze 2 durch eine beliebige Zahl\n",
    "width = 3  # Ersetze 3 durch eine beliebige Zahl\n",
    "height = 4  # Ersetze 4 durch eine beliebige Zahl\n",
    "\n",
    "volume = length * width * height\n",
    "\n",
    "print(f\"Das Volumen des Quaders beträgt {volume} Kubikeinheiten.\")"
   ]
  }
 ],
 "metadata": {
  "kernelspec": {
   "display_name": "Python 3 (ipykernel)",
   "language": "python",
   "name": "python3"
  },
  "language_info": {
   "codemirror_mode": {
    "name": "ipython",
    "version": 3
   },
   "file_extension": ".py",
   "mimetype": "text/x-python",
   "name": "python",
   "nbconvert_exporter": "python",
   "pygments_lexer": "ipython3",
   "version": "3.12.5"
  }
 },
 "nbformat": 4,
 "nbformat_minor": 4
}
