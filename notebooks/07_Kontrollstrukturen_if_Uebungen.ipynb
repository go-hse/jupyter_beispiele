{
  "cells": [
    {
      "cell_type": "markdown",
      "metadata": {},
      "source": [
        "# Übungen zu Verzweigungen in Python\n",
        "In diesem Notebook finden Sie 5 Übungsaufgaben mit Lösungen, die sich mit Verzweigungen in Python beschäftigen.\n",
        "\n",
        "Sehen Sie sich für die Übung zunächst die Notebooks __[Ein- und Ausgabe](http://localhost:8888/notebooks/08_Print_Input.ipynb)__ und __[Formatierte Ausgabe](http://localhost:8888/notebooks/09_Formated_Print.ipynb)__ an."
      ]
    },
    {
      "cell_type": "markdown",
      "metadata": {},
      "source": [
        "## Übung 1\n",
        "Schreiben Sie ein Programm, das eine Zahl vom Benutzer einliest und überprüft, ob die Zahl positiv, negativ oder null ist. Geben Sie eine entsprechende Nachricht aus."
      ]
    },
    {
      "cell_type": "code",
      "execution_count": null,
      "metadata": {},
      "outputs": [],
      "source": [
        "zahl ="
      ]
    },
    {
      "cell_type": "markdown",
      "metadata": {},
      "source": [
        "## Übung 2\n",
        "Schreiben Sie ein Programm, das eine Note (zwischen 1 und 5) vom Benutzer einliest und die entsprechende Bewertung ausgibt (1: Sehr gut, 2: Gut, 3: Befriedigend, 4: Ausreichend, 5: Mangelhaft)."
      ]
    },
    {
      "cell_type": "code",
      "execution_count": null,
      "metadata": {},
      "outputs": [],
      "source": [
        "note = "
      ]
    },
    {
      "cell_type": "markdown",
      "metadata": {},
      "source": [
        "## Übung 3\n",
        "Schreiben Sie ein Programm, das das Alter einer Person einliest und überprüft, ob die Person ein Kind (0-12 Jahre), ein Teenager (13-19 Jahre), ein Erwachsener (20-64 Jahre) oder ein Senior (65 Jahre und älter) ist."
      ]
    },
    {
      "cell_type": "code",
      "execution_count": null,
      "metadata": {},
      "outputs": [],
      "source": [
        "alter = "
      ]
    },
    {
      "cell_type": "markdown",
      "metadata": {},
      "source": [
        "## Übung 4\n",
        "Schreiben Sie ein Programm, das eine Zahl vom Benutzer einliest und überprüft, ob die Zahl gerade oder ungerade ist."
      ]
    },
    {
      "cell_type": "code",
      "execution_count": null,
      "metadata": {},
      "outputs": [],
      "source": [
        "zahl = "
      ]
    },
    {
      "cell_type": "markdown",
      "metadata": {},
      "source": [
        "## Übung 5\n",
        "Schreiben Sie ein Programm, das eine Temperatur in Grad Celsius vom Benutzer einliest und überprüft, ob es kalt (unter 10 Grad), warm (zwischen 10 und 25 Grad) oder heiß (über 25 Grad) ist."
      ]
    },
    {
      "cell_type": "code",
      "execution_count": null,
      "metadata": {},
      "outputs": [],
      "source": [
        "\n",
        "temperatur = "
      ]
    },
    {
      "cell_type": "markdown",
      "metadata": {},
      "source": [
        "Zurück zu __[Kontrollstrukturen](http://localhost:8888/notebooks/06_Kontrollstrukturen.ipynb)__\n",
        "\n",
        "Weiter zu __[Lösungen](http://localhost:8888/notebooks/07_Kontrollstrukturen_if_Uebungen_Loesungen.ipynb)__\n",
        "\n",
        "[Übersicht](http://localhost:8888/notebooks/00_Uebersicht.ipynb)\n"
      ]
    }
  ],
  "metadata": {
    "kernelspec": {
      "display_name": "Python 3 (ipykernel)",
      "language": "python",
      "name": "python3"
    },
    "language_info": {
      "codemirror_mode": {
        "name": "ipython",
        "version": 3
      },
      "file_extension": ".py",
      "mimetype": "text/x-python",
      "name": "python",
      "nbconvert_exporter": "python",
      "pygments_lexer": "ipython3",
      "version": "3.12.5"
    }
  },
  "nbformat": 4,
  "nbformat_minor": 4
}
