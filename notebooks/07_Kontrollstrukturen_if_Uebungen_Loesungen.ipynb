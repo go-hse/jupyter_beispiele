{
 "cells": [
  {
   "cell_type": "markdown",
   "metadata": {},
   "source": [
    "# Übungen zu Verzweigungen in Python\n",
    "In diesem Notebook finden Sie 5 Übungsaufgaben mit Lösungen, die sich mit Verzweigungen in Python beschäftigen.\n",
    "\n",
    "Sehen Sie sich für die Übung zunächst das Notebook __[Formatierte Ausgabe](http://localhost:8888/notebooks/09_Formated_Print.ipynb)__ an."
   ]
  },
  {
   "cell_type": "markdown",
   "metadata": {},
   "source": [
    "## Übung 1\n",
    "Schreiben Sie ein Programm, das eine Zahl vom Benutzer einliest und überprüft, ob die Zahl positiv, negativ oder null ist. Geben Sie eine entsprechende Nachricht aus."
   ]
  },
  {
   "cell_type": "code",
   "execution_count": null,
   "metadata": {},
   "outputs": [],
   "source": [
    "zahl = int(input(\"Geben Sie eine Zahl ein: \"))\n",
    "if zahl > 0:\n",
    "    print(\"Die Zahl ist positiv.\")\n",
    "elif zahl < 0:\n",
    "    print(\"Die Zahl ist negativ.\")\n",
    "else:\n",
    "    print(\"Die Zahl ist null.\")"
   ]
  },
  {
   "cell_type": "markdown",
   "metadata": {},
   "source": [
    "## Übung 2\n",
    "Schreiben Sie ein Programm, das eine Note (zwischen 1 und 5) vom Benutzer einliest und die entsprechende Bewertung ausgibt (1: Sehr gut, 2: Gut, 3: Befriedigend, 4: Ausreichend, 5: Mangelhaft)."
   ]
  },
  {
   "cell_type": "code",
   "execution_count": null,
   "metadata": {},
   "outputs": [],
   "source": [
    "note = int(input(\"Geben Sie eine Note (1-5) ein: \"))\n",
    "if note == 1:\n",
    "    print(\"Sehr gut\")\n",
    "elif note == 2:\n",
    "    print(\"Gut\")\n",
    "elif note == 3:\n",
    "    print(\"Befriedigend\")\n",
    "elif note == 4:\n",
    "    print(\"Ausreichend\")\n",
    "elif note == 5:\n",
    "    print(\"Mangelhaft\")\n",
    "else:\n",
    "    print(\"Ungültige Note\")"
   ]
  },
  {
   "cell_type": "markdown",
   "metadata": {},
   "source": [
    "## Übung 3\n",
    "Schreiben Sie ein Programm, das das Alter einer Person einliest und überprüft, ob die Person ein Kind (0-12 Jahre), ein Teenager (13-19 Jahre), ein Erwachsener (20-64 Jahre) oder ein Senior (65 Jahre und älter) ist."
   ]
  },
  {
   "cell_type": "code",
   "execution_count": null,
   "metadata": {},
   "outputs": [],
   "source": [
    "alter = int(input(\"Geben Sie Ihr Alter ein: \"))\n",
    "if alter >= 0 and alter <= 12:\n",
    "    print(\"Sie sind ein Kind.\")\n",
    "elif alter >= 13 and alter <= 19:\n",
    "    print(\"Sie sind ein Teenager.\")\n",
    "elif alter >= 20 and alter <= 64:\n",
    "    print(\"Sie sind ein Erwachsener.\")\n",
    "elif alter >= 65:\n",
    "    print(\"Sie sind ein Senior.\")\n",
    "else:\n",
    "    print(\"Ungültiges Alter\")"
   ]
  },
  {
   "cell_type": "markdown",
   "metadata": {},
   "source": [
    "## Übung 4\n",
    "Schreiben Sie ein Programm, das eine Zahl vom Benutzer einliest und überprüft, ob die Zahl gerade oder ungerade ist."
   ]
  },
  {
   "cell_type": "code",
   "execution_count": null,
   "metadata": {},
   "outputs": [],
   "source": [
    "zahl = int(input(\"Geben Sie eine Zahl ein: \"))\n",
    "if zahl % 2 == 0:\n",
    "    print(\"Die Zahl ist gerade.\")\n",
    "else:\n",
    "    print(\"Die Zahl ist ungerade.\")"
   ]
  },
  {
   "cell_type": "markdown",
   "metadata": {},
   "source": [
    "## Übung 5\n",
    "Schreiben Sie ein Programm, das eine Temperatur in Grad Celsius vom Benutzer einliest und überprüft, ob es kalt (unter 10 Grad), warm (zwischen 10 und 25 Grad) oder heiß (über 25 Grad) ist."
   ]
  },
  {
   "cell_type": "code",
   "execution_count": null,
   "metadata": {},
   "outputs": [],
   "source": [
    "temperatur = float(input(\"Geben Sie die Temperatur in Grad Celsius ein: \"))\n",
    "if temperatur < 10:\n",
    "    print(\"Es ist kalt.\")\n",
    "elif temperatur >= 10 and temperatur <= 25:\n",
    "    print(\"Es ist warm.\")\n",
    "else:\n",
    "    print(\"Es ist heiß.\")"
   ]
  }
 ],
 "metadata": {
  "kernelspec": {
   "display_name": "Python 3 (ipykernel)",
   "language": "python",
   "name": "python3"
  },
  "language_info": {
   "codemirror_mode": {
    "name": "ipython",
    "version": 3
   },
   "file_extension": ".py",
   "mimetype": "text/x-python",
   "name": "python",
   "nbconvert_exporter": "python",
   "pygments_lexer": "ipython3",
   "version": "3.12.5"
  }
 },
 "nbformat": 4,
 "nbformat_minor": 4
}
