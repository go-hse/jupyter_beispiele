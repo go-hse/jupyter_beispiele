{
  "cells": [
    {
      "cell_type": "markdown",
      "metadata": {},
      "source": [
        "# Daten-Eingabe und -Ausgabe in Python\n",
        "In diesem Notebook werden die Grundlagen der Daten-Eingabe und -Ausgabe in Python erläutert. Wir werden die Funktionen `input` und `print` verwenden und auch auf formatierte Strings eingehen."
      ]
    },
    {
      "cell_type": "markdown",
      "metadata": {},
      "source": [
        "## Eingabe mit `input`\n",
        "Die `input`-Funktion wird verwendet, um Daten vom Benutzer zu erhalten. Hier ein einfaches Beispiel:"
      ]
    },
    {
      "cell_type": "code",
      "execution_count": null,
      "metadata": {},
      "outputs": [],
      "source": [
        "name = input(\"Wie heißen Sie? \")\n",
        "print(\"Hallo, \" + name + \"!\")\n",
        "print(name, \"is\", type(name))"
      ]
    },
    {
      "cell_type": "markdown",
      "metadata": {},
      "source": [
        "Die `input`-Funktion gibt eine Zeichenkette (String) zurück.\n",
        "\n",
        "## Ausgabe mit `print`\n",
        "Die `print`-Funktion wird verwendet, um Daten auf dem Bildschirm auszugeben. Hier ein einfaches Beispiel:"
      ]
    },
    {
      "cell_type": "code",
      "execution_count": null,
      "metadata": {},
      "outputs": [],
      "source": [
        "print(\"Dies ist eine einfache Ausgabe.\")"
      ]
    },
    {
      "cell_type": "markdown",
      "metadata": {},
      "source": [
        "## Formatierte Strings\n",
        "Formatierte Strings ermöglichen es, Variablen in Strings einzufügen. Es gibt verschiedene Methoden, dies zu tun:\n",
        "1. Mit dem `%`-Operator\n",
        "2. Mit der `str.format`-Methode\n",
        "3. Mit f-Strings (seit Python 3.6)"
      ]
    },
    {
      "cell_type": "markdown",
      "metadata": {},
      "source": [
        "### 1. Mit dem `%`-Operator\n",
        "Hier ein Beispiel für die Verwendung des `%`-Operators:"
      ]
    },
    {
      "cell_type": "code",
      "execution_count": null,
      "metadata": {},
      "outputs": [],
      "source": [
        "name = \"Alice\"\n",
        "alter = 30\n",
        "print(\"%s ist %d Jahre alt.\" % (name, alter))"
      ]
    },
    {
      "cell_type": "markdown",
      "metadata": {},
      "source": [
        "### 2. Mit der `str.format`-Methode\n",
        "Hier ein Beispiel für die Verwendung der `str.format`-Methode:"
      ]
    },
    {
      "cell_type": "code",
      "execution_count": null,
      "metadata": {},
      "outputs": [],
      "source": [
        "name = \"Bob\"\n",
        "alter = 25\n",
        "print(\"{} ist {} Jahre alt.\".format(name, alter))"
      ]
    },
    {
      "cell_type": "markdown",
      "metadata": {},
      "source": [
        "### 3. Mit f-Strings\n",
        "Hier ein Beispiel für die Verwendung von f-Strings:"
      ]
    },
    {
      "cell_type": "code",
      "execution_count": null,
      "metadata": {},
      "outputs": [],
      "source": [
        "name = \"Charlie\"\n",
        "alter = 35\n",
        "print(f\"{name} ist {alter} Jahre alt.\")"
      ]
    }
  ],
  "metadata": {
    "kernelspec": {
      "display_name": "Python 3 (ipykernel)",
      "language": "python",
      "name": "python3"
    },
    "language_info": {
      "codemirror_mode": {
        "name": "ipython",
        "version": 3
      },
      "file_extension": ".py",
      "mimetype": "text/x-python",
      "name": "python",
      "nbconvert_exporter": "python",
      "pygments_lexer": "ipython3",
      "version": "3.12.5"
    }
  },
  "nbformat": 4,
  "nbformat_minor": 4
}
