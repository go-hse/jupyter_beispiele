{
 "cells": [
  {
   "cell_type": "markdown",
   "metadata": {},
   "source": [
    "# Übungsaufgaben: Arbeiten mit `for`-Schleifen in Python\n",
    "\n",
    "In diesem Notebook finden Sie 5 Übungsaufgaben, um das Arbeiten mit `for`-Schleifen in Kombination mit Tupeln und Listen zu üben. Löse jede Aufgabe, um ein besseres Verständnis für `for`-Schleifen in Python zu entwickeln."
   ]
  },
  {
   "cell_type": "markdown",
   "metadata": {},
   "source": [
    "## Aufgabe 1: Summe der Elemente in einer Liste\n",
    "\n",
    "Gegeben ist eine Liste von Zahlen. Berechne die Summe aller Zahlen in der Liste und gib das Ergebnis aus.\n",
    "\n",
    "```python\n",
    "zahlen = [3, 5, 2, 8, 7]\n",
    "```\n"
   ]
  },
  {
   "cell_type": "code",
   "execution_count": null,
   "metadata": {},
   "outputs": [],
   "source": [
    "# Lösung für Aufgabe 1\n",
    "zahlen = [3, 5, 2, 8, 7]\n",
    "summe = 0\n",
    "\n",
    "for zahl in zahlen:\n",
    "    summe += zahl\n",
    "\n",
    "print(f\"Die Summe der Zahlen in der Liste beträgt: {summe}\")"
   ]
  },
  {
   "cell_type": "markdown",
   "metadata": {},
   "source": [
    "## Aufgabe 2: Durchschnittswerte berechnen\n",
    "\n",
    "Gegeben ist eine Liste von Zahlen. Berechne den Durchschnittswert aller Zahlen in der Liste und gib das Ergebnis aus.\n",
    "\n",
    "```python\n",
    "werte = [10, 20, 30, 40, 50]\n",
    "```\n"
   ]
  },
  {
   "cell_type": "code",
   "execution_count": null,
   "metadata": {},
   "outputs": [],
   "source": [
    "# Lösung für Aufgabe 2\n",
    "werte = [10, 20, 30, 40, 50]\n",
    "summe = 0\n",
    "anzahl = len(werte)\n",
    "\n",
    "for wert in werte:\n",
    "    summe += wert\n",
    "\n",
    "durchschnitt = summe / anzahl\n",
    "\n",
    "print(f\"Der Durchschnittswert beträgt: {durchschnitt}\")"
   ]
  },
  {
   "cell_type": "markdown",
   "metadata": {},
   "source": [
    "## Aufgabe 3: Elemente in einem Tupel verdoppeln\n",
    "\n",
    "Gegeben ist ein Tupel mit Zahlen. Erstelle eine neue Liste, die die doppelten Werte der Zahlen aus dem Tupel enthält. Gib die neue Liste aus.\n",
    "\n",
    "```python\n",
    "tupel = (1, 2, 3, 4, 5)\n",
    "```\n"
   ]
  },
  {
   "cell_type": "code",
   "execution_count": null,
   "metadata": {},
   "outputs": [],
   "source": [
    "# Lösung für Aufgabe 3\n",
    "tupel = (1, 2, 3, 4, 5)\n",
    "doppelte_werte = []\n",
    "\n",
    "for zahl in tupel:\n",
    "    doppelte_werte.append(zahl * 2)\n",
    "\n",
    "print(f\"Die Liste mit den doppelten Werten lautet: {doppelte_werte}\")"
   ]
  },
  {
   "cell_type": "markdown",
   "metadata": {},
   "source": [
    "## Aufgabe 4: Filtern von geraden Zahlen\n",
    "\n",
    "Gegeben ist eine Liste von Zahlen. Erstelle eine neue Liste, die nur die geraden Zahlen aus der ursprünglichen Liste enthält. Gib die neue Liste aus.\n",
    "\n",
    "```python\n",
    "zahlen = [1, 2, 3, 4, 5, 6, 7, 8, 9, 10]\n",
    "```\n"
   ]
  },
  {
   "cell_type": "code",
   "execution_count": null,
   "metadata": {},
   "outputs": [],
   "source": [
    "# Lösung für Aufgabe 4\n",
    "zahlen = [1, 2, 3, 4, 5, 6, 7, 8, 9, 10]\n",
    "gerade_zahlen = []\n",
    "\n",
    "for zahl in zahlen:\n",
    "    if zahl % 2 == 0:\n",
    "        gerade_zahlen.append(zahl)\n",
    "\n",
    "print(f\"Die Liste der geraden Zahlen lautet: {gerade_zahlen}\")"
   ]
  },
  {
   "cell_type": "markdown",
   "metadata": {},
   "source": [
    "## Aufgabe 5: Zählen von Elementen in einer Liste\n",
    "\n",
    "Gegeben ist eine Liste mit verschiedenen Zeichenketten. Zähle, wie oft jedes Element in der Liste vorkommt, und gib die Ergebnisse als Dictionary aus.\n",
    "\n",
    "```python\n",
    "woerter = [\"Apfel\", \"Banane\", \"Apfel\", \"Orange\", \"Banane\", \"Apfel\"]\n",
    "```\n"
   ]
  },
  {
   "cell_type": "code",
   "execution_count": null,
   "metadata": {},
   "outputs": [],
   "source": [
    "# Lösung für Aufgabe 5\n",
    "woerter = [\"Apfel\", \"Banane\", \"Apfel\", \"Orange\", \"Banane\", \"Apfel\"]\n",
    "haeufigkeit = {}\n",
    "\n",
    "for wort in woerter:\n",
    "    if wort in haeufigkeit:\n",
    "        haeufigkeit[wort] += 1\n",
    "    else:\n",
    "        haeufigkeit[wort] = 1\n",
    "\n",
    "print(f\"Häufigkeit der Elemente: {haeufigkeit}\")"
   ]
  }
 ],
 "metadata": {
  "kernelspec": {
   "display_name": "Python 3 (ipykernel)",
   "language": "python",
   "name": "python3"
  },
  "language_info": {
   "codemirror_mode": {
    "name": "ipython",
    "version": 3
   },
   "file_extension": ".py",
   "mimetype": "text/x-python",
   "name": "python",
   "nbconvert_exporter": "python",
   "pygments_lexer": "ipython3",
   "version": "3.12.5"
  }
 },
 "nbformat": 4,
 "nbformat_minor": 4
}
