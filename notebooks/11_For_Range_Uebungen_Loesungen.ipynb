{
 "cells": [
  {
   "cell_type": "markdown",
   "metadata": {},
   "source": [
    "# Übungsaufgaben: Arbeiten mit `for`-Schleifen und Zählvariablen (range) in Python\n",
    "\n",
    "In diesem Notebook finden Sie 5 Übungsaufgaben mit Lösungen, um das Arbeiten mit `for`-Schleifen und Zählvariablen (range) in Python zu üben. Jede Aufgabe enthält eine detaillierte Lösung."
   ]
  },
  {
   "cell_type": "markdown",
   "metadata": {},
   "source": [
    "## Aufgabe 1: Ausgabe von Zahlen\n",
    "\n",
    "Schreibe eine `for`-Schleife, die die Zahlen von 1 bis 10 ausgibt."
   ]
  },
  {
   "cell_type": "code",
   "execution_count": null,
   "metadata": {},
   "outputs": [],
   "source": [
    "# Lösung für Aufgabe 1\n",
    "for i in range(1, 11):\n",
    "    print(i)"
   ]
  },
  {
   "cell_type": "markdown",
   "metadata": {},
   "source": [
    "## Aufgabe 2: Berechnung der Quadrate\n",
    "\n",
    "Schreibe eine `for`-Schleife, die die Quadrate der Zahlen von 1 bis 5 berechnet und ausgibt."
   ]
  },
  {
   "cell_type": "code",
   "execution_count": null,
   "metadata": {},
   "outputs": [],
   "source": [
    "# Lösung für Aufgabe 2\n",
    "for i in range(1, 6):\n",
    "    quadrat = i * i\n",
    "    print(f\"Das Quadrat von {i} ist {quadrat}\")"
   ]
  },
  {
   "cell_type": "markdown",
   "metadata": {},
   "source": [
    "## Aufgabe 3: Summe der ersten n Zahlen\n",
    "\n",
    "Schreibe eine `for`-Schleife, die die Summe der ersten n Zahlen berechnet. Für n = 10 sollte das Ergebnis 55 sein."
   ]
  },
  {
   "cell_type": "code",
   "execution_count": null,
   "metadata": {},
   "outputs": [],
   "source": [
    "# Lösung für Aufgabe 3\n",
    "n = 10\n",
    "summe = 0\n",
    "\n",
    "for i in range(1, n + 1):\n",
    "    summe += i\n",
    "\n",
    "print(f\"Die Summe der ersten {n} Zahlen ist {summe}\")"
   ]
  },
  {
   "cell_type": "markdown",
   "metadata": {},
   "source": [
    "## Aufgabe 4: Gerade Zahlen\n",
    "\n",
    "Schreibe eine `for`-Schleife, die alle geraden Zahlen von 2 bis 20 ausgibt."
   ]
  },
  {
   "cell_type": "code",
   "execution_count": null,
   "metadata": {},
   "outputs": [],
   "source": [
    "# Lösung für Aufgabe 4\n",
    "for i in range(2, 21, 2):\n",
    "    print(i)"
   ]
  },
  {
   "cell_type": "markdown",
   "metadata": {},
   "source": [
    "## Aufgabe 5: Rückwärts zählen\n",
    "\n",
    "Schreibe eine `for`-Schleife, die die Zahlen von 10 bis 1 in absteigender Reihenfolge ausgibt."
   ]
  },
  {
   "cell_type": "code",
   "execution_count": null,
   "metadata": {},
   "outputs": [],
   "source": [
    "# Lösung für Aufgabe 5\n",
    "for i in range(10, 0, -1):\n",
    "    print(i)"
   ]
  }
 ],
 "metadata": {
  "kernelspec": {
   "display_name": "Python 3",
   "language": "python",
   "name": "python3"
  },
  "language_info": {
   "codemirror_mode": {
    "name": "ipython",
    "version": 3
   },
   "file_extension": ".py",
   "mimetype": "text/x-python",
   "name": "python",
   "nbconvert_exporter": "python",
   "version": "3.9.7"
  }
 },
 "nbformat": 4,
 "nbformat_minor": 4
}
