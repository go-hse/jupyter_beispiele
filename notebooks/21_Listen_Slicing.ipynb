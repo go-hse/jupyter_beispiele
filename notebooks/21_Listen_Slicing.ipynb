{
  "cells": [
    {
      "cell_type": "markdown",
      "metadata": {},
      "source": [
        "# Zugriff auf Listen-Elemente mit der Slicing-Syntax in Python\n",
        "\n",
        "In Python kann man auf Teile einer Liste zugreifen, indem man die sogenannte **Slicing-Syntax** verwendet. Diese Syntax ermöglicht es, eine Unterliste aus einer bestehenden Liste zu extrahieren."
      ]
    },
    {
      "cell_type": "markdown",
      "metadata": {},
      "source": [
        "## Grundlagen des Slicings\n",
        "\n",
        "Das Slicing einer Liste erfolgt mittels der Notation `start:stop:step` innerhalb von eckigen Klammern `[]`. Diese Notation ermöglicht es, eine Unterliste von `start` bis `stop-1` in Schritten von `step` zu erhalten.\n",
        "\n",
        "Die allgemeine Form ist:\n",
        "```python\n",
        "liste[start:stop:step]\n",
        "```\n",
        "- `start`: Der Startindex (inklusive) der Slice.\n",
        "- `stop`: Der Endindex (exklusive) der Slice.\n",
        "- `step`: Die Schrittweite zwischen den Elementen."
      ]
    },
    {
      "cell_type": "markdown",
      "metadata": {},
      "source": [
        "## Beispiel: Zugriff auf Elemente mit positivem Schrittwert\n",
        "\n",
        "```python\n",
        "liste = [0, 1, 2, 3, 4, 5, 6, 7, 8, 9]\n",
        "```\n",
        "Greifen wir beispielsweise auf die ersten fünf Elemente der Liste zu:"
      ]
    },
    {
      "cell_type": "code",
      "execution_count": null,
      "metadata": {},
      "outputs": [],
      "source": [
        "# Beispiel für Slicing mit positivem Schrittwert\n",
        "liste = [0, 1, 2, 3, 4, 5, 6, 7, 8, 9]\n",
        "erste_fuenf = liste[0:5]\n",
        "print(erste_fuenf)  # Ausgabe: [0, 1, 2, 3, 4]"
      ]
    },
    {
      "cell_type": "markdown",
      "metadata": {},
      "source": [
        "### Slicing mit weggelassenen Werten\n",
        "\n",
        "Wenn `start`, `stop` oder `step` weggelassen wird, verwendet Python Standardwerte:\n",
        "- `start` ist standardmäßig `0`\n",
        "- `stop` ist standardmäßig die Länge der Liste\n",
        "- `step` ist standardmäßig `1`\n",
        "\n",
        "Beispiel:"
      ]
    },
    {
      "cell_type": "code",
      "execution_count": null,
      "metadata": {},
      "outputs": [],
      "source": [
        "# Slicing ohne Angabe von start und stop\n",
        "alle_elemente = liste[:]\n",
        "print(alle_elemente)  # Ausgabe: [0, 1, 2, 3, 4, 5, 6, 7, 8, 9]\n",
        "\n",
        "# Slicing ab einem bestimmten Index\n",
        "ab_drei = liste[3:]\n",
        "print(ab_drei)  # Ausgabe: [3, 4, 5, 6, 7, 8, 9]\n",
        "\n",
        "# Slicing bis zu einem bestimmten Index\n",
        "bis_sieben = liste[:7]\n",
        "print(bis_sieben)  # Ausgabe: [0, 1, 2, 3, 4, 5, 6]"
      ]
    },
    {
      "cell_type": "markdown",
      "metadata": {},
      "source": [
        "## Beispiel: Zugriff auf Elemente mit negativem Schrittwert\n",
        "\n",
        "Durch die Verwendung eines negativen Schrittwerts können Sie die Liste in umgekehrter Reihenfolge durchlaufen."
      ]
    },
    {
      "cell_type": "code",
      "execution_count": null,
      "metadata": {},
      "outputs": [],
      "source": [
        "# Slicing mit negativem Schrittwert\n",
        "umgekehrt = liste[::-1]\n",
        "print(umgekehrt)  # Ausgabe: [9, 8, 7, 6, 5, 4, 3, 2, 1, 0]"
      ]
    },
    {
      "cell_type": "markdown",
      "metadata": {},
      "source": [
        "### Slicing von Teilbereichen mit negativem Schrittwert\n",
        "\n",
        "Durch die Angabe von `start` und `stop` kann auch ein spezifischer Teilbereich der Liste in umgekehrter Reihenfolge extrahiert werden."
      ]
    },
    {
      "cell_type": "code",
      "execution_count": null,
      "metadata": {},
      "outputs": [],
      "source": [
        "# Teilbereich der Liste umkehren\n",
        "teilbereich_umgekehrt = liste[7:2:-1]\n",
        "print(teilbereich_umgekehrt)  # Ausgabe: [7, 6, 5, 4, 3]"
      ]
    },
    {
      "cell_type": "markdown",
      "metadata": {},
      "source": [
        "## Weitere Beispiele\n",
        "\n",
        "Hier sind noch einige weitere Beispiele, die verschiedene Slicing-Möglichkeiten verdeutlichen:"
      ]
    },
    {
      "cell_type": "code",
      "execution_count": null,
      "metadata": {},
      "outputs": [],
      "source": [
        "# Jede zweite Zahl\n",
        "jede_zweite = liste[::2]\n",
        "print(jede_zweite)  # Ausgabe: [0, 2, 4, 6, 8]\n",
        "\n",
        "# Elemente von Index 1 bis 8 in 2er-Schritten\n",
        "von_eins_bis_acht = liste[1:9:2]\n",
        "print(von_eins_bis_acht)  # Ausgabe: [1, 3, 5, 7]\n",
        "\n",
        "# Letzte drei Elemente\n",
        "letzte_drei = liste[-3:]\n",
        "print(letzte_drei)  # Ausgabe: [7, 8, 9]"
      ]
    },
    {
      "cell_type": "markdown",
      "metadata": {},
      "source": [
        "## Zusammenfassung\n",
        "\n",
        "Die Slicing-Syntax `[:]` ist ein mächtiges Werkzeug in Python, um auf bestimmte Teile von Listen zuzugreifen oder Listen zu modifizieren. Mit Slicing können Sie sowohl einfache als auch komplexe Extraktionen mit minimalem Code durchführen.\n",
        "\n",
        "\n",
        "Zurück zu __[Konstrollstrukturen](http://localhost:8888/notebooks/20_Listen.ipynb)__\n",
        "\n",
        "Weiter zu __[Arbeiten mit Listen und Slicing](http://localhost:8888/notebooks/21_Listen_Slicing.ipynb)__\n",
        "\n",
        "[Übersicht](http://localhost:8888/notebooks/00_Uebersicht.ipynb)"
      ]
    }
  ],
  "metadata": {
    "kernelspec": {
      "display_name": "Python 3 (ipykernel)",
      "language": "python",
      "name": "python3"
    },
    "language_info": {
      "codemirror_mode": {
        "name": "ipython",
        "version": 3
      },
      "file_extension": ".py",
      "mimetype": "text/x-python",
      "name": "python",
      "nbconvert_exporter": "python",
      "pygments_lexer": "ipython3",
      "version": "3.12.5"
    }
  },
  "nbformat": 4,
  "nbformat_minor": 4
}
