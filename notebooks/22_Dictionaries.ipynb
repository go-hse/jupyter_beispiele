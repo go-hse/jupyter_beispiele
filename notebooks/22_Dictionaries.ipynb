{
  "cells": [
    {
      "cell_type": "markdown",
      "metadata": {},
      "source": [
        "# Einführung in Dictionaries in Python\n",
        "\n",
        "Dictionaries sind eine zentrale Datenstruktur in Python, die es ermöglicht, Daten in Schlüssel-Wert-Paaren zu speichern. Im Gegensatz zu Listen sind Dictionaries nicht geordnet, was bedeutet, dass die Reihenfolge der Einträge nicht festgelegt ist."
      ]
    },
    {
      "cell_type": "markdown",
      "metadata": {},
      "source": [
        "## Erstellen und Manipulieren von Dictionaries\n",
        "\n",
        "Ein Dictionary wird in Python mit geschweiften Klammern `{}` erstellt. Jedes Element im Dictionary besteht aus einem Schlüssel und einem zugehörigen Wert, die durch einen Doppelpunkt `:` getrennt sind.\n",
        "\n",
        "Beispiele:"
      ]
    },
    {
      "cell_type": "code",
      "execution_count": null,
      "metadata": {},
      "outputs": [],
      "source": [
        "# Ein leeres Dictionary erstellen\n",
        "leeres_dict = {}\n",
        "print(leeres_dict)\n",
        "\n",
        "# Ein Dictionary mit Werten erstellen\n",
        "student = {\n",
        "    \"Name\": \"Max Mustermann\",\n",
        "    \"Alter\": 21,\n",
        "    \"Studiengang\": \"Informatik\"\n",
        "}\n",
        "print(student)"
      ]
    },
    {
      "cell_type": "markdown",
      "metadata": {},
      "source": [
        "## Zugriff auf Werte in einem Dictionary\n",
        "\n",
        "Auf Werte in einem Dictionary kann über ihren Schlüssel zugegriffen werden."
      ]
    },
    {
      "cell_type": "code",
      "execution_count": null,
      "metadata": {},
      "outputs": [],
      "source": [
        "# Zugriff auf einen Wert im Dictionary\n",
        "name = student[\"Name\"]\n",
        "print(\"Name des Studenten:\", name)\n",
        "\n",
        "# Einen Wert ändern\n",
        "student[\"Alter\"] = 22\n",
        "print(\"Aktualisiertes Alter:\", student[\"Alter\"])"
      ]
    },
    {
      "cell_type": "markdown",
      "metadata": {},
      "source": [
        "## Hinzufügen und Löschen von Schlüssel-Wert-Paaren\n",
        "\n",
        "Ein neues Schlüssel-Wert-Paar kann einfach durch Zuweisung hinzugefügt werden. Zum Löschen eines Paares wird das `del`-Statement verwendet."
      ]
    },
    {
      "cell_type": "code",
      "execution_count": null,
      "metadata": {},
      "outputs": [],
      "source": [
        "# Ein neues Schlüssel-Wert-Paar hinzufügen\n",
        "student[\"Hochschule\"] = \"Technische Universität\"\n",
        "print(\"Nach Hinzufügen von Hochschule:\", student)\n",
        "\n",
        "# Ein Schlüssel-Wert-Paar löschen\n",
        "del student[\"Studiengang\"]\n",
        "print(\"Nach Löschen des Studiengangs:\", student)"
      ]
    },
    {
      "cell_type": "markdown",
      "metadata": {},
      "source": [
        "## Iteration über die Schlüssel eines Dictionaries mit `keys()`\n",
        "\n",
        "Die Methode `keys()` gibt eine Ansicht der Schlüssel des Dictionaries zurück, die iteriert werden kann."
      ]
    },
    {
      "cell_type": "code",
      "execution_count": null,
      "metadata": {},
      "outputs": [],
      "source": [
        "# Iteration über die Schlüssel eines Dictionaries\n",
        "for key in student.keys():\n",
        "    print(key, \":\", student[key])"
      ]
    },
    {
      "cell_type": "markdown",
      "metadata": {},
      "source": [
        "## Weitere nützliche Methoden für Dictionaries\n",
        "\n",
        "- `values()`: Gibt eine Ansicht der Werte im Dictionary zurück.\n",
        "- `items()`: Gibt eine Ansicht der Schlüssel-Wert-Paare im Dictionary zurück.\n",
        "- `get(key, default)`: Gibt den Wert für den Schlüssel `key` zurück, wenn der Schlüssel existiert, andernfalls den Wert `default`."
      ]
    },
    {
      "cell_type": "code",
      "execution_count": null,
      "metadata": {},
      "outputs": [],
      "source": [
        "# Beispiel für values()\n",
        "werte = student.values()\n",
        "print(\"Werte im Dictionary:\", list(werte))\n",
        "\n",
        "# Beispiel für items()\n",
        "paare = student.items()\n",
        "print(\"Schlüssel-Wert-Paare:\", list(paare))\n",
        "\n",
        "# Beispiel für get()\n",
        "hochschule = student.get(\"Hochschule\", \"Nicht verfügbar\")\n",
        "print(\"Hochschule des Studenten:\", hochschule)"
      ]
    },
    {
      "cell_type": "markdown",
      "metadata": {},
      "source": [
        "Zurück zu __[Übungen mit Listen Dictionaries](http://localhost:8888/notebooks/23_List_Dicts_Uebungen.ipynb)__\n",
        "\n",
        "Weiter zu __[Listen](http://localhost:8888/notebooks/20_Listen.ipynb)__\n",
        "\n",
        "[Übersicht](http://localhost:8888/notebooks/00_Uebersicht.ipynb)"
      ]
    }
  ],
  "metadata": {
    "kernelspec": {
      "display_name": "Python 3 (ipykernel)",
      "language": "python",
      "name": "python3"
    },
    "language_info": {
      "codemirror_mode": {
        "name": "ipython",
        "version": 3
      },
      "file_extension": ".py",
      "mimetype": "text/x-python",
      "name": "python",
      "nbconvert_exporter": "python",
      "pygments_lexer": "ipython3",
      "version": "3.12.5"
    }
  },
  "nbformat": 4,
  "nbformat_minor": 4
}
