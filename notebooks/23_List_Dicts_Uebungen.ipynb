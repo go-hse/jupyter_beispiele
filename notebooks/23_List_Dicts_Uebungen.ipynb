{
 "cells": [
  {
   "cell_type": "markdown",
   "metadata": {},
   "source": [
    "# Übungsaufgaben zu Listen und Dictionaries in Python\n",
    "\n",
    "Diese Aufgaben sollen Ihnen helfen, das Arbeiten mit Listen und Dictionaries in Python zu üben. Jede Aufgabe ist unabhängig und behandelt verschiedene Aspekte dieser beiden Datenstrukturen."
   ]
  },
  {
   "cell_type": "markdown",
   "metadata": {},
   "source": [
    "## Aufgabe 1: Erstellen einer Liste\n",
    "\n",
    "Erstellen Sie eine Liste namens `fruits`, die die folgenden Elemente enthält: \"Apfel\", \"Banane\", \"Kirsche\", \"Dattel\". Geben Sie die Liste aus."
   ]
  },
  {
   "cell_type": "code",
   "execution_count": null,
   "metadata": {},
   "outputs": [],
   "source": [
    "# Lösung für Aufgabe 1\n",
    "fruits = [..."
   ]
  },
  {
   "cell_type": "markdown",
   "metadata": {},
   "source": [
    "## Aufgabe 2: Hinzufügen und Entfernen von Elementen\n",
    "\n",
    "Fügen Sie der Liste `fruits` das Element \"Erdbeere\" hinzu und entfernen Sie anschließend das Element \"Banane\". Geben Sie die aktualisierte Liste aus."
   ]
  },
  {
   "cell_type": "code",
   "execution_count": null,
   "metadata": {},
   "outputs": [],
   "source": [
    "# Lösung für Aufgabe 2\n",
    "fruits."
   ]
  },
  {
   "cell_type": "markdown",
   "metadata": {},
   "source": [
    "## Aufgabe 3: Zugriff auf Listenelemente\n",
    "\n",
    "Greifen Sie auf das dritte Element in der Liste `fruits` zu und geben Sie es aus."
   ]
  },
  {
   "cell_type": "code",
   "execution_count": null,
   "metadata": {},
   "outputs": [],
   "source": [
    "# Lösung für Aufgabe 3\n",
    "drittes_element = "
   ]
  },
  {
   "cell_type": "markdown",
   "metadata": {},
   "source": [
    "## Aufgabe 4: Erstellen eines Dictionaries\n",
    "\n",
    "Erstellen Sie ein Dictionary namens `student`, das die folgenden Schlüssel-Wert-Paare enthält: \"Name\" (\"Max Mustermann\"), \"Alter\" (20), \"Studiengang\" (\"Informatik\"). Geben Sie das Dictionary aus."
   ]
  },
  {
   "cell_type": "code",
   "execution_count": null,
   "metadata": {},
   "outputs": [],
   "source": [
    "# Lösung für Aufgabe 4\n",
    "student = {\n",
    "print(student)"
   ]
  },
  {
   "cell_type": "markdown",
   "metadata": {},
   "source": [
    "## Aufgabe 5: Zugriff auf Dictionary-Werte\n",
    "\n",
    "Greifen Sie auf den Wert des Schlüssels \"Name\" im Dictionary `student` zu und geben Sie ihn aus."
   ]
  },
  {
   "cell_type": "code",
   "execution_count": null,
   "metadata": {},
   "outputs": [],
   "source": [
    "# Lösung für Aufgabe 5\n",
    "name = \n",
    "print(name)"
   ]
  },
  {
   "cell_type": "markdown",
   "metadata": {},
   "source": [
    "## Aufgabe 6: Hinzufügen eines neuen Schlüssels\n",
    "\n",
    "Fügen Sie dem Dictionary `student` einen neuen Schlüssel \"Hochschule\" mit dem Wert \"TU München\" hinzu. Geben Sie das aktualisierte Dictionary aus."
   ]
  },
  {
   "cell_type": "code",
   "execution_count": null,
   "metadata": {},
   "outputs": [],
   "source": [
    "# Lösung für Aufgabe 6\n",
    "student\n",
    "print(student)"
   ]
  },
  {
   "cell_type": "markdown",
   "metadata": {},
   "source": [
    "## Aufgabe 7: Iteration über ein Dictionary\n",
    "\n",
    "Iterieren Sie über die Schlüssel des Dictionaries `student` und geben Sie jeden Schlüssel mit dem zugehörigen Wert aus."
   ]
  },
  {
   "cell_type": "code",
   "execution_count": null,
   "metadata": {},
   "outputs": [],
   "source": [
    "# Lösung für Aufgabe 7\n",
    "for key "
   ]
  },
  {
   "cell_type": "markdown",
   "metadata": {},
   "source": [
    "## Aufgabe 8: Verschachtelte Datenstrukturen\n",
    "\n",
    "Erstellen Sie ein Dictionary namens `classroom`, das die Namen der Schüler als Schlüssel und deren Noten als Liste von Werten enthält. Beispiel: `{\"Anna\": [1, 2, 2], \"Ben\": [3, 2, 1]}`. Geben Sie das Dictionary aus."
   ]
  },
  {
   "cell_type": "code",
   "execution_count": null,
   "metadata": {},
   "outputs": [],
   "source": [
    "# Lösung für Aufgabe 8\n",
    "classroom = \n",
    "print(classroom)"
   ]
  },
  {
   "cell_type": "markdown",
   "metadata": {},
   "source": [
    "## Aufgabe 9: Durchschnittsberechnung\n",
    "\n",
    "Berechnen Sie den Durchschnitt der Noten für jeden Schüler im Dictionary `classroom` und geben Sie den Namen des Schülers zusammen mit dem Durchschnitt aus."
   ]
  },
  {
   "cell_type": "code",
   "execution_count": null,
   "metadata": {},
   "outputs": [],
   "source": [
    "# Lösung für Aufgabe 9\n",
    "for"
   ]
  },
  {
   "cell_type": "markdown",
   "metadata": {},
   "source": [
    "## Aufgabe 10: Kombination von Listen und Dictionaries\n",
    "\n",
    "Erstellen Sie eine Liste von Dictionaries, wobei jedes Dictionary die Daten eines Schülers enthält (Name, Alter, Noten). "
   ]
  },
  {
   "cell_type": "code",
   "execution_count": null,
   "metadata": {},
   "outputs": [],
   "source": [
    "# Lösung für Aufgabe 10\n",
    "students = [\n",
    "    \n",
    "]\n",
    "print(students)"
   ]
  },
  {
   "cell_type": "markdown",
   "metadata": {},
   "source": [
    "Zurück zu __[Dictionaries](http://localhost:8888/notebooks/22_Dictionaries.ipynb)__\n",
    "\n",
    "Weiter zu __[Lösungen](http://localhost:8888/notebooks/23_List_Dicts_Uebungen_Loesungen.ipynb)__\n",
    "\n",
    "[Übersicht](http://localhost:8888/notebooks/00_Uebersicht.ipynb)"
   ]
  }
 ],
 "metadata": {
  "kernelspec": {
   "display_name": "Python 3 (ipykernel)",
   "language": "python",
   "name": "python3"
  },
  "language_info": {
   "codemirror_mode": {
    "name": "ipython",
    "version": 3
   },
   "file_extension": ".py",
   "mimetype": "text/x-python",
   "name": "python",
   "nbconvert_exporter": "python",
   "pygments_lexer": "ipython3",
   "version": "3.12.5"
  }
 },
 "nbformat": 4,
 "nbformat_minor": 4
}
