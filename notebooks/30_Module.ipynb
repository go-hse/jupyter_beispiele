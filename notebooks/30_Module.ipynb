{
 "cells": [
  {
   "cell_type": "markdown",
   "id": "8d28c331",
   "metadata": {},
   "source": [
    "# Einführung in die Verwendung von Modulen in Python\n",
    "\n",
    "In diesem Notebook lernen Sie, wie man Module in Python verwendet. Module sind wiederverwendbare Code-Einheiten, die Funktionen, Klassen und Variablen enthalten. Sie ermöglichen es dir, deinen Code besser zu organisieren und wiederzuverwenden."
   ]
  },
  {
   "cell_type": "markdown",
   "id": "69044935",
   "metadata": {},
   "source": [
    "## 1. Importieren eines Moduls\n",
    "\n",
    "Python enthält viele eingebaute Module, die Sie direkt verwenden können. Eines der am häufigsten verwendeten Module ist das `math`-Modul, das mathematische Funktionen und Konstanten enthält.\n",
    "\n",
    "Um ein Modul zu verwenden, muss es zuerst importiert werden."
   ]
  },
  {
   "cell_type": "code",
   "execution_count": null,
   "id": "9b1716dc",
   "metadata": {},
   "outputs": [],
   "source": [
    "import math\n",
    "\n",
    "# Verwende eine Funktion aus dem math-Modul, um die Quadratwurzel einer Zahl zu berechnen\n",
    "result = math.sqrt(25)\n",
    "print(\"Die Quadratwurzel von 25 ist:\", result)"
   ]
  },
  {
   "cell_type": "markdown",
   "id": "d7a1e919",
   "metadata": {},
   "source": [
    "## 2. Verwendung von Aliasnamen\n",
    "\n",
    "Manchmal kann es nützlich sein, einem Modul einen kürzeren Namen zu geben, insbesondere wenn der Name des Moduls lang ist. Dies wird durch die Verwendung des `as`-Schlüsselwortes erreicht."
   ]
  },
  {
   "cell_type": "code",
   "execution_count": null,
   "id": "bc47a55d",
   "metadata": {},
   "outputs": [],
   "source": [
    "import math as m\n",
    "\n",
    "# Jetzt können wir das math-Modul mit dem Alias 'm' verwenden\n",
    "result = m.sqrt(36)\n",
    "print(\"Die Quadratwurzel von 36 ist:\", result)"
   ]
  },
  {
   "cell_type": "markdown",
   "id": "c74f5370",
   "metadata": {},
   "source": [
    "## 3. Importieren spezifischer Funktionen aus einem Modul\n",
    "\n",
    "Anstatt das gesamte Modul zu importieren, kann man auch nur spezifische Funktionen importieren. Dies kann den Code lesbarer machen und verhindern, dass nicht benötigte Funktionen geladen werden."
   ]
  },
  {
   "cell_type": "code",
   "execution_count": null,
   "id": "2e08e3cb",
   "metadata": {},
   "outputs": [],
   "source": [
    "from math import pi, sqrt\n",
    "\n",
    "# Jetzt können wir die importierten Funktionen direkt verwenden, ohne das Modul voranzustellen\n",
    "print(\"Der Wert von pi ist:\", pi)\n",
    "result = sqrt(49)\n",
    "print(\"Die Quadratwurzel von 49 ist:\", result)"
   ]
  },
  {
   "cell_type": "markdown",
   "id": "332e838b",
   "metadata": {},
   "source": [
    "## 4. Erstellen und Verwenden eigener Module\n",
    "\n",
    "Neben den eingebauten Modulen können auch eigene Module erstellen werden. Ein Modul ist einfach eine Python-Datei, die Funktionen, Klassen und Variablen enthält, die in anderen Python-Dateien verwendet werden können."
   ]
  },
  {
   "cell_type": "markdown",
   "id": "1c99f5f0",
   "metadata": {},
   "source": [
    "### Beispiel: Erstellen eines eigenen Moduls\n",
    "\n",
    "Angenommen, man erstellt eine Datei namens `mein_modul.py` mit folgendem Inhalt:\n",
    "```python\n",
    "def gruessen(name):\n",
    "    return f\"Hallo, {name}!\"\n",
    "```\n",
    "\n",
    "Dann kann man dieses Modul in einem Python-Code wie folgt verwenden:"
   ]
  },
  {
   "cell_type": "code",
   "execution_count": null,
   "id": "ae624a08",
   "metadata": {},
   "outputs": [],
   "source": [
    "# Angenommen, die Datei 'mein_modul.py' befindet sich im gleichen Verzeichnis wie dieses Notebook\n",
    "import mein_modul\n",
    "\n",
    "# Verwende die Funktion aus deinem eigenen Modul\n",
    "gruss = mein_modul.gruessen(\"Welt\")\n",
    "print(gruss)"
   ]
  },
  {
   "cell_type": "markdown",
   "id": "423b3d42",
   "metadata": {},
   "source": [
    "## Zusammenfassung\n",
    "\n",
    "In diesem Notebook wurde gezeigt:\n",
    "- Wie man eingebaute Module in Python importiert und verwendet\n",
    "- Wie man Module mit Aliasnamen importiert\n",
    "- Wie man spezifische Funktionen aus einem Modul importiert\n",
    "- Wie man eigene Module erstellt und verwendet\n",
    "\n",
    "Module sind ein leistungsstarkes Werkzeug, um deinen Code modular, wiederverwendbar und übersichtlich zu gestalten."
   ]
  },
  {
   "cell_type": "markdown",
   "id": "ef16ac5f",
   "metadata": {},
   "source": [
    "Zurück zu __[Funktionen](http://localhost:8888/notebooks/24_Funktionen.ipynb)__\n",
    "\n",
    "Weiter zu __[Pip](http://localhost:8888/notebooks/31_Pip.ipynb)__\n",
    "\n",
    "[Übersicht](http://localhost:8888/notebooks/00_Uebersicht.ipynb)"
   ]
  }
 ],
 "metadata": {
  "kernelspec": {
   "display_name": "Python 3 (ipykernel)",
   "language": "python",
   "name": "python3"
  },
  "language_info": {
   "codemirror_mode": {
    "name": "ipython",
    "version": 3
   },
   "file_extension": ".py",
   "mimetype": "text/x-python",
   "name": "python",
   "nbconvert_exporter": "python",
   "pygments_lexer": "ipython3",
   "version": "3.11.5"
  }
 },
 "nbformat": 4,
 "nbformat_minor": 5
}
