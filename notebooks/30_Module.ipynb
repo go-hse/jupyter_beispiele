{
    "cells": [
     {
      "cell_type": "markdown",
      "metadata": {},
      "source": [
       "# Einführung in die Verwendung von Modulen in Python\n",
       "\n",
       "In diesem Notebook lernst du, wie man Module in Python verwendet. Module sind wiederverwendbare Code-Einheiten, die Funktionen, Klassen und Variablen enthalten. Sie ermöglichen es dir, deinen Code besser zu organisieren und wiederzuverwenden."
      ]
     },
     {
      "cell_type": "markdown",
      "metadata": {},
      "source": [
       "## 1. Importieren eines Moduls\n",
       "\n",
       "Python enthält viele eingebaute Module, die du direkt verwenden kannst. Eines der am häufigsten verwendeten Module ist das `math`-Modul, das mathematische Funktionen und Konstanten enthält.\n",
       "\n",
       "Um ein Modul zu verwenden, musst du es zuerst importieren."
      ]
     },
     {
      "cell_type": "code",
      "execution_count": null,
      "metadata": {},
      "outputs": [],
      "source": [
       "import math\n",
       "\n",
       "# Verwende eine Funktion aus dem math-Modul, um die Quadratwurzel einer Zahl zu berechnen\n",
       "result = math.sqrt(25)\n",
       "print(\"Die Quadratwurzel von 25 ist:\", result)"
      ]
     },
     {
      "cell_type": "markdown",
      "metadata": {},
      "source": [
       "## 2. Verwendung von Aliasnamen\n",
       "\n",
       "Manchmal kann es nützlich sein, einem Modul einen kürzeren Namen zu geben, insbesondere wenn der Name des Moduls lang ist. Dies wird durch die Verwendung des `as`-Schlüsselwortes erreicht."
      ]
     },
     {
      "cell_type": "code",
      "execution_count": null,
      "metadata": {},
      "outputs": [],
      "source": [
       "import math as m\n",
       "\n",
       "# Jetzt können wir das math-Modul mit dem Alias 'm' verwenden\n",
       "result = m.sqrt(36)\n",
       "print(\"Die Quadratwurzel von 36 ist:\", result)"
      ]
     },
     {
      "cell_type": "markdown",
      "metadata": {},
      "source": [
       "## 3. Importieren spezifischer Funktionen aus einem Modul\n",
       "\n",
       "Anstatt das gesamte Modul zu importieren, kannst du auch nur spezifische Funktionen importieren. Dies kann den Code lesbarer machen und verhindern, dass nicht benötigte Funktionen geladen werden."
      ]
     },
     {
      "cell_type": "code",
      "execution_count": null,
      "metadata": {},
      "outputs": [],
      "source": [
       "from math import pi, sqrt\n",
       "\n",
       "# Jetzt können wir die importierten Funktionen direkt verwenden, ohne das Modul voranzustellen\n",
       "print(\"Der Wert von pi ist:\", pi)\n",
       "result = sqrt(49)\n",
       "print(\"Die Quadratwurzel von 49 ist:\", result)"
      ]
     },
     {
      "cell_type": "markdown",
      "metadata": {},
      "source": [
       "## 4. Erstellen und Verwenden eigener Module\n",
       "\n",
       "Neben den eingebauten Modulen kannst du auch eigene Module erstellen. Ein Modul ist einfach eine Python-Datei, die Funktionen, Klassen und Variablen enthält, die du in anderen Python-Dateien verwenden kannst."
      ]
     },
     {
      "cell_type": "markdown",
      "metadata": {},
      "source": [
       "### Beispiel: Erstellen eines eigenen Moduls\n",
       "\n",
       "Angenommen, du erstellst eine Datei namens `mein_modul.py` mit folgendem Inhalt:\n",
       "```python\n",
       "def gruessen(name):\n",
       "    return f\"Hallo, {name}!\"\n",
       "```\n",
       "\n",
       "Du kannst dieses Modul dann in deinem Python-Code wie folgt verwenden:"
      ]
     },
     {
      "cell_type": "code",
      "execution_count": null,
      "metadata": {},
      "outputs": [],
      "source": [
       "# Angenommen, die Datei 'mein_modul.py' befindet sich im gleichen Verzeichnis wie dieses Notebook\n",
       "import mein_modul\n",
       "\n",
       "# Verwende die Funktion aus deinem eigenen Modul\n",
       "gruss = mein_modul.gruessen(\"Welt\")\n",
       "print(gruss)"
      ]
     },
     {
      "cell_type": "markdown",
      "metadata": {},
      "source": [
       "## Zusammenfassung\n",
       "\n",
       "In diesem Notebook hast du gelernt:\n",
       "- Wie man eingebaute Module in Python importiert und verwendet\n",
       "- Wie man Module mit Aliasnamen importiert\n",
       "- Wie man spezifische Funktionen aus einem Modul importiert\n",
       "- Wie man eigene Module erstellt und verwendet\n",
       "\n",
       "Module sind ein leistungsstarkes Werkzeug, um deinen Code modular, wiederverwendbar und übersichtlich zu gestalten."
      ]
     }
    ],
    "metadata": {
     "kernelspec": {
      "display_name": "Python 3",
      "language": "python",
      "name": "python3"
     },
     "language_info": {
      "codemirror_mode": {
       "name": "ipython",
       "version": 3
      },
      "file_extension": ".py",
      "mimetype": "text/x-python",
      "name": "python",
      "nbconvert_exporter": "python",
      "version": "3.x"
     }
    },
    "nbformat": 4,
    "nbformat_minor": 5
   }
   