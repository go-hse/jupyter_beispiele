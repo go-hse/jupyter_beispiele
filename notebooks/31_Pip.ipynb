{
  "cells": [
    {
      "cell_type": "markdown",
      "metadata": {},
      "source": [
        "# Paketinstaller pip\n",
        "\n",
        "Dieses Notebook erklärt wie man pip, den Paketinstaller für Python, verwendet.\n",
        "\n",
        "pip ist der Paketinstaller für Python. Er ermöglicht es Ihnen, zusätzliche Pakete zu installieren und zu verwalten, die nicht Teil der Python-Standardbibliothek sind."
      ]
    },
    {
      "cell_type": "markdown",
      "metadata": {},
      "source": [
        "### Verwendung von pip\n",
        "\n",
        "Hier sind einige gängige pip-Befehle:\n",
        "\n",
        "1. Ein Paket installieren:\n",
        "   ```\n",
        "   pip install paketname\n",
        "   ```\n",
        "\n",
        "2. Ein Paket deinstallieren:\n",
        "   ```\n",
        "   pip uninstall paketname\n",
        "   ```\n",
        "\n",
        "3. Installierte Pakete auflisten:\n",
        "   ```\n",
        "   pip list\n",
        "   ```\n",
        "\n",
        "4. Informationen über ein Paket anzeigen:\n",
        "   ```\n",
        "   pip show paketname\n",
        "   ```\n",
        "\n",
        "5. Ein Paket aktualisieren:\n",
        "   ```\n",
        "   pip install --upgrade paketname\n",
        "   ```"
      ]
    },
    {
      "cell_type": "markdown",
      "metadata": {},
      "source": [
        "### Beispiel: Installation und Verwendung eines Pakets\n",
        "\n",
        "Lassen Sie uns die `requests`-Bibliothek installieren, ein beliebtes Paket für HTTP-Anfragen in Python."
      ]
    },
    {
      "cell_type": "code",
      "execution_count": null,
      "metadata": {},
      "outputs": [],
      "source": [
        "# Ausführung von pip in Notebook\n",
        "# Alternativ in der Konsole: pip install requests\n",
        "import sys\n",
        "!{sys.executable} -m pip install requests"
      ]
    },
    {
      "cell_type": "code",
      "execution_count": null,
      "metadata": {},
      "outputs": [
        {
          "name": "stdout",
          "output_type": "stream",
          "text": [
            "Statuscode: 200\n",
            "Inhaltstyp: application/json; charset=utf-8\n"
          ]
        }
      ],
      "source": [
        "# Jetzt können wir die requests-Bibliothek in unserem Code verwenden\n",
        "import requests\n",
        "\n",
        "antwort = requests.get('https://api.github.com')\n",
        "print(f\"Statuscode: {antwort.status_code}\")\n",
        "print(f\"Inhaltstyp: {antwort.headers['content-type']}\")"
      ]
    },
    {
      "cell_type": "markdown",
      "metadata": {},
      "source": [
        "## Fazit\n",
        "\n",
        "Module helfen bei der Organisation und Wiederverwendung von Code, während pip es Ihnen ermöglicht, die Funktionalität von Python durch die Installation von Paketen von Drittanbietern zu erweitern. Zusammen machen sie Python zu einer leistungsfähigen und flexiblen Sprache für verschiedene Anwendungen."
      ]
    }
  ],
  "metadata": {
    "kernelspec": {
      "display_name": "Python 3 (ipykernel)",
      "language": "python",
      "name": "python3"
    },
    "language_info": {
      "codemirror_mode": {
        "name": "ipython",
        "version": 3
      },
      "file_extension": ".py",
      "mimetype": "text/x-python",
      "name": "python",
      "nbconvert_exporter": "python",
      "pygments_lexer": "ipython3",
      "version": "3.11.5"
    }
  },
  "nbformat": 4,
  "nbformat_minor": 4
}