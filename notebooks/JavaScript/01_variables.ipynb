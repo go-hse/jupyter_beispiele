{
  "cells": [
    {
      "cell_type": "markdown",
      "metadata": {},
      "source": [
        "# Einführung in Variablen in JavaScript\n",
        "\n",
        "In diesem Notebook werden wir uns mit dem Konzept der Variablen in JavaScript befassen. Wir werden lernen, was Variablen sind, warum sie wichtig sind, und welche Best Practices bei der Benennung von Variablen beachtet werden sollten."
      ]
    },
    {
      "cell_type": "markdown",
      "metadata": {},
      "source": [
        "## Was sind Variablen?\n",
        "\n",
        "Variablen sind symbolische Namen, die verwendet werden, um Werte zu speichern, auf die später im Programm zugegriffen werden kann. Eine Variable kann verschiedene Arten von Daten speichern, wie z.B. Zahlen, Zeichenfolgen oder Objekte. In JavaScript werden Variablen mit den Schlüsselwörtern `var`, `let` oder `const` deklariert."
      ]
    },
    {
      "cell_type": "code",
      "execution_count": null,
      "metadata": {},
      "outputs": [],
      "source": [
        "// Beispiel einer Variablen-Deklaration in JavaScript\n",
        "let name = \"John Doe\"; // Eine Variable vom Typ String\n",
        "const pi = 3.14159;    // Eine Konstante vom Typ Zahl\n",
        "var age = 30;          // Eine Variable vom Typ Zahl (ältere Syntax)\n",
        "console.log(age);\n"
      ]
    },
    {
      "cell_type": "markdown",
      "metadata": {},
      "source": [
        "## Warum sind Variablen wichtig?\n",
        "\n",
        "Variablen sind ein zentrales Konzept in der Programmierung, da sie es ermöglichen, Daten zu speichern und zu manipulieren. Ohne Variablen wäre es schwierig, komplexe Berechnungen durchzuführen oder Daten über die Laufzeit eines Programms hinweg zu speichern und wiederzuverwenden. Sie bieten Flexibilität und helfen, den Code lesbarer und wartbarer zu gestalten."
      ]
    },
    {
      "cell_type": "markdown",
      "metadata": {},
      "source": [
        "## Benennungskonventionen und Best Practices\n",
        "\n",
        "Die Wahl der richtigen Namen für Variablen ist entscheidend für die Lesbarkeit und Wartbarkeit des Codes. Hier sind einige Best Practices:\n",
        "\n",
        "- **Beschreibende Namen:** Variablen sollten klar und beschreibend sein. Verwende Namen, die den Zweck der Variable deutlich machen.\n",
        "- **CamelCase:** In JavaScript ist es üblich, für Variablennamen das CamelCase-Format zu verwenden, d.h. der erste Buchstabe des ersten Wortes ist klein, und jedes nachfolgende Wort beginnt mit einem Großbuchstaben, z.B. `userName`, `totalAmount`.\n",
        "- **Vermeidung von Schlüsselwörtern:** Verwende keine reservierten JavaScript-Schlüsselwörter (wie `class`, `return`, `function`) als Variablennamen.\n",
        "- **Konsistenz:** Achte darauf, dass du eine konsistente Namenskonvention im gesamten Code beibehältst.\n",
        "- **Vermeidung von Abkürzungen:** Abkürzungen können den Code schwer verständlich machen. Schreibe Variablennamen vollständig aus, wenn möglich."
      ]
    },
    {
      "cell_type": "code",
      "execution_count": null,
      "metadata": {},
      "outputs": [],
      "source": [
        "// Beispiele für gute und schlechte Variablennamen\n",
        "let x = 5;              // Schlecht: nicht beschreibend\n",
        "let productQuantity = 5; // Gut: beschreibend und klar\n",
        "\n",
        "let tAmt = 100;         // Schlecht: Abkürzung ist unklar\n",
        "let totalAmount = 100;  // Gut: klar und verständlich\n"
      ]
    },
    {
      "cell_type": "markdown",
      "metadata": {},
      "source": [
        "## Zusammenfassung\n",
        "\n",
        "Variablen sind ein grundlegendes Konzept in der Programmierung. Sie ermöglichen es, Werte zu speichern und mit ihnen zu arbeiten. Die richtige Benennung von Variablen ist entscheidend für die Lesbarkeit und Wartbarkeit des Codes. Indem du beschreibende Namen und konsistente Benennungskonventionen verwendest, kannst du deinen Code für andere (und für dich selbst) leichter verständlich machen."
      ]
    }
  ],
  "metadata": {
    "kernelspec": {
      "display_name": "Deno",
      "language": "typescript",
      "name": "deno"
    },
    "language_info": {
      "codemirror_mode": "typescript",
      "file_extension": ".ts",
      "mimetype": "text/x.typescript",
      "name": "typescript",
      "nbconvert_exporter": "script",
      "pygments_lexer": "typescript",
      "version": "5.5.2"
    }
  },
  "nbformat": 4,
  "nbformat_minor": 4
}