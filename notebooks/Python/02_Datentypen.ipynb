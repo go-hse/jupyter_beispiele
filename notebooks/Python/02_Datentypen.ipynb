{
 "cells": [
  {
   "cell_type": "markdown",
   "metadata": {},
   "source": [
    "# Einführung in Python-Datentypen\n",
    "\n",
    "In diesem Abschnitt werden wir uns die verschiedenen grundlegenden Datentypen in Python ansehen. Python unterstützt mehrere Datentypen, die es uns ermöglichen, verschiedene Arten von Daten zu speichern und zu manipulieren."
   ]
  },
  {
   "cell_type": "markdown",
   "metadata": {},
   "source": [
    "## 1. Ganzzahlen (Integer)\n",
    "\n",
    "Ganzzahlen (oder Integer) sind ganze Zahlen ohne Dezimalstellen. In Python können Ganzzahlen sowohl positiv als auch negativ sein.\n",
    "\n",
    "In den folgenden Beispielen werden __[Variablen](http://localhost:8888/notebooks/03_Variablen.ipynb)__ ganze Zahlen zugewiesen, d.h. die Zahl wird in der Variable gespeichert:"
   ]
  },
  {
   "cell_type": "code",
   "execution_count": null,
   "metadata": {},
   "outputs": [],
   "source": [
    "a = 10\n",
    "b = -5\n",
    "c = 0\n",
    "\n",
    "print(a)\n",
    "print(b)\n",
    "print(c)"
   ]
  },
  {
   "cell_type": "markdown",
   "metadata": {},
   "source": [
    "## 2. Gleitkommazahlen (Float)\n",
    "\n",
    "Gleitkommazahlen (oder Float) sind Zahlen mit Dezimalstellen. Sie werden verwendet, um Bruchzahlen darzustellen.\n",
    "\n",
    "Beispiele:"
   ]
  },
  {
   "cell_type": "code",
   "execution_count": null,
   "metadata": {},
   "outputs": [],
   "source": [
    "x = 3.14\n",
    "y = -0.001\n",
    "z = 10.0\n",
    "\n",
    "print(x)\n",
    "print(y)\n",
    "print(z)"
   ]
  },
  {
   "cell_type": "markdown",
   "metadata": {},
   "source": [
    "## 3. Zeichenketten (String)\n",
    "\n",
    "Eine Zeichenkette (oder String) ist eine Folge von Zeichen, die in Anführungszeichen (einfach oder doppelt) eingeschlossen ist. Zeichenketten können Text, Zahlen und andere Symbole enthalten.\n",
    "\n",
    "Beispiele:"
   ]
  },
  {
   "cell_type": "code",
   "execution_count": null,
   "metadata": {},
   "outputs": [],
   "source": [
    "str1 = \"Hallo, Welt!\"\n",
    "str2 = 'Python ist großartig!'\n",
    "str3 = \"12345\"\n",
    "\n",
    "print(str1)\n",
    "print(str2)\n",
    "print(str3)"
   ]
  },
  {
   "cell_type": "markdown",
   "metadata": {},
   "source": [
    "## 4. Booleans (Wahrheitswerte)\n",
    "\n",
    "Booleans sind Datentypen, die nur zwei Werte annehmen können: `True` (wahr) oder `False` (falsch). Sie werden oft in Kontrollstrukturen verwendet, um Bedingungen zu überprüfen.\n",
    "\n",
    "Beispiele:"
   ]
  },
  {
   "cell_type": "code",
   "execution_count": null,
   "metadata": {},
   "outputs": [],
   "source": [
    "is_sunny = True\n",
    "is_raining = False\n",
    "\n",
    "print(is_sunny)\n",
    "print(is_raining)"
   ]
  },
  {
   "cell_type": "markdown",
   "metadata": {},
   "source": [
    "## 5. Listen (List)\n",
    "\n",
    "Listen sind geordnete Sammlungen von Elementen, die in eckigen Klammern `[]` eingeschlossen sind. Die Elemente in einer Liste können von beliebigem Datentyp sein und eine Liste kann mehrere verschiedene Typen enthalten.\n",
    "\n",
    "Beispiele:"
   ]
  },
  {
   "cell_type": "code",
   "execution_count": null,
   "metadata": {},
   "outputs": [],
   "source": [
    "fruits = [\"Apfel\", \"Banane\", \"Kirsche\"]\n",
    "numbers = [1, 2, 3, 4, 5]\n",
    "mixed = [\"Python\", 3.9, True]\n",
    "\n",
    "print(fruits)\n",
    "print(numbers)\n",
    "print(mixed)"
   ]
  },
  {
   "cell_type": "markdown",
   "metadata": {},
   "source": [
    "## 6. Tupel (Tuple)\n",
    "\n",
    "Tupel sind ähnlich wie Listen, aber im Gegensatz zu Listen sind sie unveränderlich, d.h., einmal erstellt, können ihre Elemente nicht geändert werden. Tupel werden in runden Klammern `()` definiert.\n",
    "\n",
    "Beispiele:"
   ]
  },
  {
   "cell_type": "code",
   "execution_count": null,
   "metadata": {},
   "outputs": [],
   "source": [
    "tuple1 = (1, 2, 3)\n",
    "tuple2 = (\"Apfel\", \"Banane\", \"Kirsche\")\n",
    "tuple3 = (\"Python\", 3.9, False)\n",
    "\n",
    "print(tuple1)\n",
    "print(tuple2)\n",
    "print(tuple3)"
   ]
  },
  {
   "cell_type": "markdown",
   "metadata": {},
   "source": [
    "## 7. Dictionaries (Dict)\n",
    "\n",
    "Dictionaries sind ungeordnete Sammlungen von Schlüssel-Wert-Paaren. Ein Dictionary wird mit geschweiften Klammern `{}` definiert. Jedes Element in einem Dictionary besteht aus einem Schlüssel und einem Wert, die durch einen Doppelpunkt `:` getrennt sind.\n",
    "\n",
    "Beispiele:"
   ]
  },
  {
   "cell_type": "code",
   "execution_count": null,
   "metadata": {},
   "outputs": [],
   "source": [
    "person = {\n",
    "    \"name\": \"John\",\n",
    "    \"age\": 30,\n",
    "    \"city\": \"New York\"\n",
    "}\n",
    "prices = {\n",
    "    \"Apfel\": 0.5,\n",
    "    \"Banane\": 0.3,\n",
    "    \"Kirsche\": 1.5\n",
    "}\n",
    "\n",
    "print(person)\n",
    "print(prices)"
   ]
  },
  {
   "cell_type": "markdown",
   "metadata": {},
   "source": [
    "## 8. Mengen (Set)\n",
    "\n",
    "Mengen sind ungeordnete Sammlungen von eindeutigen Elementen. Sets werden in geschweiften Klammern `{}` definiert. Ein Set erlaubt keine doppelten Werte.\n",
    "\n",
    "Beispiele:"
   ]
  },
  {
   "cell_type": "code",
   "execution_count": null,
   "metadata": {},
   "outputs": [],
   "source": [
    "set1 = {1, 2, 3, 4, 5}\n",
    "set2 = {\"Apfel\", \"Banane\", \"Kirsche\", \"Apfel\"}\n",
    "\n",
    "print(set1)\n",
    "print(set2)  # \"Apfel\" wird nur einmal angezeigt, da Sets keine Duplikate erlauben."
   ]
  },
  {
   "cell_type": "markdown",
   "metadata": {},
   "source": [
    "# Abschluss\n",
    "\n",
    "In diesem Notebook haben wir die grundlegenden Datentypen in Python behandelt. Das Verständnis dieser Datentypen ist entscheidend für die Arbeit mit Python, da sie die Grundlage für die Datenmanipulation und -speicherung in der Sprache bilden.\n",
    "\n",
    "\n",
    "Zurück zu __[Einführung](http://localhost:8888/notebooks/01_Intro.ipynb)__\n",
    "\n",
    "Weiter zu __[Variablen](http://localhost:8888/notebooks/03_Variablen.ipynb)__\n",
    "\n",
    "[Übersicht](http://localhost:8888/notebooks/00_Uebersicht.ipynb)"
   ]
  }
 ],
 "metadata": {
  "kernelspec": {
   "display_name": "Python 3 (ipykernel)",
   "language": "python",
   "name": "python3"
  },
  "language_info": {
   "codemirror_mode": {
    "name": "ipython",
    "version": 3
   },
   "file_extension": ".py",
   "mimetype": "text/x-python",
   "name": "python",
   "nbconvert_exporter": "python",
   "pygments_lexer": "ipython3",
   "version": "3.12.5"
  }
 },
 "nbformat": 4,
 "nbformat_minor": 4
}
