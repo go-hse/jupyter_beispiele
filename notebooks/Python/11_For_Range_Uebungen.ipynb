{
 "cells": [
  {
   "cell_type": "markdown",
   "metadata": {},
   "source": [
    "# Übungsaufgaben: Arbeiten mit `for`-Schleifen und Zählvariablen (range) in Python\n",
    "\n",
    "In diesem Notebook findent Sie 5 Übungsaufgaben mit Lösungen, um das Arbeiten mit `for`-Schleifen und Zählvariablen (range) in Python zu üben. Für die Lösungen kann man den `range`-Befehl verwenden, siehe https://www.w3schools.com/python/ref_func_range.asp\n",
    "\n",
    "Der `range`-Befehl gibt eine Sequenz von Zahlen (z.B. 0, 1, 2, 3, ...), die für eine `for-in`-Schleife verwendet werden kann. "
   ]
  },
  {
   "cell_type": "markdown",
   "metadata": {},
   "source": [
    "## Aufgabe 1: Ausgabe von Zahlen\n",
    "\n",
    "Schreibe eine `for`-Schleife, die die Zahlen von 1 bis 10 ausgibt."
   ]
  },
  {
   "cell_type": "code",
   "execution_count": null,
   "metadata": {},
   "outputs": [],
   "source": [
    "# Lösung für Aufgabe 1\n",
    "for i "
   ]
  },
  {
   "cell_type": "markdown",
   "metadata": {},
   "source": [
    "## Aufgabe 2: Berechnung der Quadrate\n",
    "\n",
    "Schreibe eine `for`-Schleife, die die Quadrate der Zahlen von 1 bis 5 berechnet und ausgibt."
   ]
  },
  {
   "cell_type": "code",
   "execution_count": null,
   "metadata": {},
   "outputs": [],
   "source": [
    "# Lösung für Aufgabe 2\n",
    "for "
   ]
  },
  {
   "cell_type": "markdown",
   "metadata": {},
   "source": [
    "## Aufgabe 3: Summe der ersten n Zahlen\n",
    "\n",
    "Schreibe eine `for`-Schleife, die die Summe der ersten n Zahlen berechnet. Für n = 10 sollte das Ergebnis 55 sein."
   ]
  },
  {
   "cell_type": "code",
   "execution_count": null,
   "metadata": {},
   "outputs": [],
   "source": [
    "# Lösung für Aufgabe 3\n",
    "n = 10\n",
    "summe = 0"
   ]
  },
  {
   "cell_type": "markdown",
   "metadata": {},
   "source": [
    "## Aufgabe 4: Gerade Zahlen\n",
    "\n",
    "Schreibe eine `for`-Schleife, die alle geraden Zahlen von 2 bis 20 ausgibt."
   ]
  },
  {
   "cell_type": "code",
   "execution_count": null,
   "metadata": {},
   "outputs": [],
   "source": [
    "# Lösung für Aufgabe 4\n",
    "for i "
   ]
  },
  {
   "cell_type": "markdown",
   "metadata": {},
   "source": [
    "## Aufgabe 5: Rückwärts zählen\n",
    "\n",
    "Schreibe eine `for`-Schleife, die die Zahlen von 10 bis 1 in absteigender Reihenfolge ausgibt."
   ]
  },
  {
   "cell_type": "code",
   "execution_count": null,
   "metadata": {},
   "outputs": [],
   "source": [
    "# Lösung für Aufgabe 5\n",
    "for i "
   ]
  },
  {
   "cell_type": "markdown",
   "metadata": {},
   "source": [
    "Zurück zu __[Konstrollstrukturen](http://localhost:8888/notebooks/06_Kontrollstrukturen.ipynb)__\n",
    "\n",
    "Weiter zu __[Lösungen](http://localhost:8888/notebooks/11_For_Range_Uebungen_Loesungen.ipynb)__\n",
    "\n",
    "[Übersicht](http://localhost:8888/notebooks/00_Uebersicht.ipynb)"
   ]
  }
 ],
 "metadata": {
  "kernelspec": {
   "display_name": "Python 3 (ipykernel)",
   "language": "python",
   "name": "python3"
  },
  "language_info": {
   "codemirror_mode": {
    "name": "ipython",
    "version": 3
   },
   "file_extension": ".py",
   "mimetype": "text/x-python",
   "name": "python",
   "nbconvert_exporter": "python",
   "pygments_lexer": "ipython3",
   "version": "3.12.5"
  }
 },
 "nbformat": 4,
 "nbformat_minor": 4
}
