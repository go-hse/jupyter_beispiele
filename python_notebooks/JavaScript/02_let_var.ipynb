{
  "cells": [
    {
      "cell_type": "markdown",
      "metadata": {},
      "source": [
        "# Unterschied zwischen `let` und `var` in JavaScript\n",
        "\n",
        "In diesem Notebook werden wir die Unterschiede zwischen den beiden JavaScript-Kommandos `let` und `var` untersuchen. Diese beiden Schlüsselwörter werden verwendet, um Variablen in JavaScript zu deklarieren, unterscheiden sich jedoch in ihrem Verhalten. Wir werden die Unterschiede anhand von Beispielen erläutern."
      ]
    },
    {
      "cell_type": "markdown",
      "metadata": {},
      "source": [
        "## Einführung in `var`\n",
        "\n",
        "Das Schlüsselwort `var` wurde in den frühen Versionen von JavaScript eingeführt und wird verwendet, um eine Variable zu deklarieren. Variablen, die mit `var` deklariert werden, haben folgende Eigenschaften:\n",
        "\n",
        "- **Funktions-Scope:** `var`-Variablen sind an den Funktions-Scope gebunden. Das bedeutet, dass sie innerhalb der Funktion, in der sie deklariert wurden, sichtbar sind, aber auch außerhalb von Block-Scope wie `if` oder `for`.\n",
        "- **Hoisting:** `var`-Deklarationen werden \"gehoistet\", das bedeutet, dass die Deklaration der Variable an den Anfang ihres Scopes verschoben wird. Dies kann zu unerwartetem Verhalten führen.\n",
        "- **Wiederholte Deklaration:** Eine `var`-Variable kann innerhalb desselben Scopes erneut deklariert werden, ohne dass ein Fehler auftritt."
      ]
    },
    {
      "cell_type": "code",
      "execution_count": null,
      "metadata": {},
      "outputs": [],
      "source": [
        "// Beispiel für var und Funktions-Scope\n",
        "function exampleVar() {\n",
        "    if (true) {\n",
        "        var x = 10;\n",
        "    }\n",
        "    console.log(x); // x ist hier sichtbar, Ausgabe: 10\n",
        "}\n",
        "exampleVar();\n",
        "\n",
        "// Beispiel für var und Hoisting\n",
        "function hoistingVar() {\n",
        "    console.log(y); // Ausgabe: undefined, da die Deklaration gehostet wird\n",
        "    var y = 5;\n",
        "}\n",
        "hoistingVar();"
      ]
    },
    {
      "cell_type": "markdown",
      "metadata": {},
      "source": [
        "## Einführung in `let`\n",
        "\n",
        "Das Schlüsselwort `let` wurde in ES6 (ECMAScript 2015) eingeführt und bietet eine Alternative zu `var`. Es hat folgende Eigenschaften:\n",
        "\n",
        "- **Block-Scope:** `let`-Variablen sind an den Block-Scope gebunden. Das bedeutet, dass sie nur innerhalb des Blocks sichtbar sind, in dem sie deklariert wurden (z.B. innerhalb eines `if`-Statements oder einer Schleife).\n",
        "- **Kein Hoisting (oder \"temporal dead zone\")**: Obwohl `let`-Variablen technisch gesehen auch gehostet werden, befinden sie sich in einer sogenannten \"temporal dead zone\", bevor sie deklariert und initialisiert werden. Dadurch wird der Zugriff auf die Variable vor ihrer Deklaration verhindert.\n",
        "- **Keine wiederholte Deklaration:** Eine `let`-Variable kann nicht innerhalb desselben Scopes erneut deklariert werden."
      ]
    },
    {
      "cell_type": "code",
      "execution_count": null,
      "metadata": {},
      "outputs": [],
      "source": [
        "// Beispiel für let und Block-Scope\n",
        "function exampleLet() {\n",
        "    if (true) {\n",
        "        let y = 20;\n",
        "        console.log(y); // y ist hier sichtbar, Ausgabe: 20\n",
        "    }\n",
        "    // console.log(y); // Fehler: y ist nicht definiert, da außerhalb des Blocks\n",
        "}\n",
        "exampleLet();\n",
        "\n",
        "// Beispiel für let und temporal dead zone\n",
        "function temporalDeadZone() {\n",
        "    // console.log(z); // Fehler: z ist nicht definiert\n",
        "    let z = 10;\n",
        "    console.log(z); // Ausgabe: 10\n",
        "}\n",
        "temporalDeadZone();"
      ]
    },
    {
      "cell_type": "markdown",
      "metadata": {},
      "source": [
        "## Zusammenfassung\n",
        "\n",
        "- `var` ist funktionsbasiert und unterstützt Hoisting, wodurch es in unvorhersehbaren Situationen zu Fehlern kommen kann.\n",
        "- `let` ist blockbasiert und vermeidet viele der Probleme, die durch `var` entstehen können, wie unvorhersehbares Hoisting und Scoping-Probleme.\n",
        "\n",
        "In der modernen JavaScript-Entwicklung wird empfohlen, `let` gegenüber `var` zu bevorzugen, um einen klareren und fehlerfreien Code zu gewährleisten."
      ]
    }
  ],
  "metadata": {
    "kernelspec": {
      "display_name": "Deno",
      "language": "typescript",
      "name": "deno"
    },
    "language_info": {
      "codemirror_mode": "typescript",
      "file_extension": ".ts",
      "mimetype": "text/x.typescript",
      "name": "typescript",
      "nbconvert_exporter": "script",
      "pygments_lexer": "typescript",
      "version": "5.5.2"
    }
  },
  "nbformat": 4,
  "nbformat_minor": 4
}