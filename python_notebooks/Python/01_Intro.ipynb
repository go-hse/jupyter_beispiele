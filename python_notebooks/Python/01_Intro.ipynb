{
  "cells": [
    {
      "cell_type": "markdown",
      "metadata": {},
      "source": [
        "# Einführung in die Programmierung mit Python\n",
        "## Abschnitt: Erste Schritte in Python\n",
        "\n",
        "In diesem Abschnitt werden wir die grundlegenden Konzepte der Python-Programmierung durch einfache Beispiele kennenlernen. Wir beginnen mit einem einfachen \"Hello, World!\"-Programm, betrachten die grundlegende Syntax und lernen, wie man Kommentare verwendet."
      ]
    },
    {
      "cell_type": "markdown",
      "metadata": {},
      "source": [
        "## 1. \"Hello, World!\"-Programm\n",
        "\n",
        "Das klassische \"Hello, World!\"-Programm ist in fast jeder Programmiersprache das erste Programm, das man schreibt. Es dient dazu, den Einstieg in die Programmiersprache zu erleichtern und die Grundlagen der Programmiersyntax zu erlernen.\n",
        "\n",
        "In Python sieht das \"Hello, World!\"-Programm so aus:"
      ]
    },
    {
      "cell_type": "code",
      "execution_count": null,
      "metadata": {},
      "outputs": [],
      "source": [
        "print(\"Hello, World!\")"
      ]
    },
    {
      "cell_type": "markdown",
      "metadata": {},
      "source": [
        "**Erklärung**:\n",
        "- `print()` ist eine eingebaute Funktion in Python, die den angegebenen Text auf dem Bildschirm ausgibt.\n",
        "- Der Text, der ausgegeben werden soll, wird in Anführungszeichen `\"` gesetzt.\n",
        "- In Python verwenden wir runde Klammern `()` nach dem Funktionsnamen, um die Funktion aufzurufen.\n",
        "- Siehe auch [Ein- und Ausgabe](http://localhost:8888/notebooks/08_Print_Input.ipynb) und [Formatierte Ausgabe](http://localhost:8888/notebooks/09_Formated_Print.ipynb)"
      ]
    },
    {
      "cell_type": "markdown",
      "metadata": {},
      "source": [
        "## 2. Python-Syntax\n",
        "\n",
        "Python ist bekannt für seine einfache und lesbare Syntax. Im Folgenden werden einige grundlegende Syntaxregeln und Beispiele erläutert."
      ]
    },
    {
      "cell_type": "markdown",
      "metadata": {},
      "source": [
        "### 2.1. Einrückung\n",
        "\n",
        "In Python ist die Einrückung entscheidend. Im Gegensatz zu vielen anderen Programmiersprachen, die geschweifte Klammern `{}` verwenden, um Codeblöcke zu definieren, verwendet Python die Einrückung, um den Anfang und das Ende eines Codeblocks zu kennzeichnen.\n",
        "\n",
        "Beispiel:"
      ]
    },
    {
      "cell_type": "code",
      "execution_count": null,
      "metadata": {},
      "outputs": [],
      "source": [
        "if True:\n",
        "    print(\"Das ist ein eingerückter Codeblock.\")\n",
        "    print(\"Er wird ausgeführt, weil die Bedingung True ist.\")"
      ]
    },
    {
      "cell_type": "markdown",
      "metadata": {},
      "source": [
        "**Erklärung**:\n",
        "- Der `if`-Befehl führt den darunterliegenden Codeblock nur aus, wenn die Bedingung `True` ist, siehe auch [Kontrollstrukturen](http://localhost:8888/notebooks/06_Kontrollstrukturen.ipynb).\n",
        "- Der Codeblock ist eingerückt, um anzuzeigen, dass er zu der `if`-Bedingung gehört."
      ]
    },
    {
      "cell_type": "markdown",
      "metadata": {},
      "source": [
        "### 2.2. Zeilenenden\n",
        "\n",
        "In Python endet eine Anweisung normalerweise mit einem Zeilenumbruch. Im Gegensatz zu einigen anderen Sprachen (z. B. C, Java) benötigt Python kein Semikolon `;` am Ende jeder Anweisung.\n",
        "\n",
        "Beispiel:"
      ]
    },
    {
      "cell_type": "code",
      "execution_count": null,
      "metadata": {},
      "outputs": [],
      "source": [
        "x = 5\n",
        "y = 10\n",
        "print(x + y)"
      ]
    },
    {
      "cell_type": "markdown",
      "metadata": {},
      "source": [
        "**Erklärung**:\n",
        "- In den ersten beiden Zeilen werden Variablen `x` und `y` definiert und ihnen Werte zugewiesen.\n",
        "- In der dritten Zeile wird das Ergebnis von `x + y` mit der `print()`-Funktion ausgegeben."
      ]
    },
    {
      "cell_type": "markdown",
      "metadata": {},
      "source": [
        "## 3. Kommentare\n",
        "\n",
        "Kommentare sind Textteile im Code, die nicht ausgeführt werden. Sie werden verwendet, um den Code zu dokumentieren oder Anmerkungen für den Programmierer zu hinterlassen."
      ]
    },
    {
      "cell_type": "markdown",
      "metadata": {},
      "source": [
        "### 3.1. Einzelne Zeilen kommentieren\n",
        "\n",
        "In Python werden Kommentare mit einem Hash-Zeichen `#` eingeleitet. Alles, was nach dem `#` steht, wird von Python ignoriert.\n",
        "\n",
        "Beispiel:"
      ]
    },
    {
      "cell_type": "code",
      "execution_count": null,
      "metadata": {},
      "outputs": [],
      "source": [
        "# Dies ist ein Kommentar.\n",
        "print(\"Diese Zeile wird ausgeführt.\")  # Das ist ein Kommentar am Ende einer Zeile."
      ]
    },
    {
      "cell_type": "markdown",
      "metadata": {},
      "source": [
        "### 3.2. Mehrzeilige Kommentare\n",
        "\n",
        "In Python gibt es keine spezielle Syntax für mehrzeilige Kommentare, wie es sie in einigen anderen Sprachen gibt. Stattdessen verwendet man einfach mehrere aufeinanderfolgende `#`-Zeichen.\n",
        "\n",
        "Beispiel:"
      ]
    },
    {
      "cell_type": "code",
      "execution_count": null,
      "metadata": {},
      "outputs": [],
      "source": [
        "# Das ist ein mehrzeiliger\n",
        "# Kommentar, der in Python\n",
        "# durch mehrere `#`-Zeichen umgesetzt wird."
      ]
    },
    {
      "cell_type": "markdown",
      "metadata": {},
      "source": [
        "Eine ungewollte Variante des mehrzeiligen Kommentars ist eine mehrzeilige Zeichenkette, die von Python ignoriert wird, wenn sie keiner Variablen zugewiesen wird.\n",
        "\n",
        "Beispiel:"
      ]
    },
    {
      "cell_type": "code",
      "execution_count": null,
      "metadata": {},
      "outputs": [],
      "source": [
        "\"\"\"\n",
        "This is a comment\n",
        "written in\n",
        "more than just one line\n",
        "\"\"\"\n",
        "print(\"Hello, World!\") "
      ]
    },
    {
      "cell_type": "markdown",
      "metadata": {},
      "source": [
        "## 4. Weitere grundlegende Konzepte\n",
        "\n",
        "Nachdem wir die ersten Schritte in Python durchlaufen haben, sollten wir uns bewusst sein, dass Python eine dynamisch typisierte Sprache ist, was bedeutet, dass Sie beim Deklarieren von Variablen keine Typen angeben müssen.\n",
        "\n",
        "Beispiel:"
      ]
    },
    {
      "cell_type": "code",
      "execution_count": null,
      "metadata": {},
      "outputs": [],
      "source": [
        "a = 10       # a ist jetzt eine Ganzzahl\n",
        "b = 3.14     # b ist jetzt eine Gleitkommazahl\n",
        "c = \"Hallo\"  # c ist jetzt eine Zeichenkette"
      ]
    },
    {
      "cell_type": "markdown",
      "metadata": {},
      "source": [
        "**Erklärung**:\n",
        "- Python erkennt den Typ einer Variablen automatisch, basierend auf dem zugewiesenen Wert.\n",
        "- Variablen können während der Laufzeit problemlos zwischen Typen wechseln."
      ]
    },
    {
      "cell_type": "markdown",
      "metadata": {},
      "source": [
        "Das war eine kurze Einführung in die Grundlagen von Python. In den folgenden Abschnitten werden wir tiefer in die Details und die praktische Anwendung der Sprache eintauchen.\n",
        "\n",
        "Weiter zu __[Datentypen](http://localhost:8888/notebooks/02_Datentypen.ipynb)__\n",
        "\n",
        "zurück zur [Übersicht](http://localhost:8888/notebooks/00_Uebersicht.ipynb)"
      ]
    }
  ],
  "metadata": {
    "kernelspec": {
      "display_name": "Python 3 (ipykernel)",
      "language": "python",
      "name": "python3"
    },
    "language_info": {
      "codemirror_mode": {
        "name": "ipython",
        "version": 3
      },
      "file_extension": ".py",
      "mimetype": "text/x-python",
      "name": "python",
      "nbconvert_exporter": "python",
      "pygments_lexer": "ipython3",
      "version": "3.12.5"
    }
  },
  "nbformat": 4,
  "nbformat_minor": 4
}
