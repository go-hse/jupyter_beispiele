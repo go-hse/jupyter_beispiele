{
 "cells": [
  {
   "cell_type": "markdown",
   "metadata": {},
   "source": [
    "# Übungsaufgaben: Arbeiten mit `while`-Schleifen in Python\n",
    "\n",
    "In diesem Notebook finden Sie 5 Übungsaufgaben mit Lösungen, um das Arbeiten mit `while`-Schleifen in Python zu üben. Jede Aufgabe enthält eine detaillierte Lösung."
   ]
  },
  {
   "cell_type": "markdown",
   "metadata": {},
   "source": [
    "## Aufgabe 1: Ausgabe von Zahlen\n",
    "\n",
    "Schreibe eine `while`-Schleife, die die Zahlen von 1 bis 10 ausgibt."
   ]
  },
  {
   "cell_type": "code",
   "execution_count": null,
   "metadata": {},
   "outputs": [],
   "source": [
    "# Lösung für Aufgabe 1\n",
    "i = 1\n",
    "while i <= 10:\n",
    "    print(i)\n",
    "    i += 1"
   ]
  },
  {
   "cell_type": "markdown",
   "metadata": {},
   "source": [
    "## Aufgabe 2: Berechnung der Summe\n",
    "\n",
    "Schreibe eine `while`-Schleife, die die Summe der Zahlen von 1 bis 100 berechnet."
   ]
  },
  {
   "cell_type": "code",
   "execution_count": null,
   "metadata": {},
   "outputs": [],
   "source": [
    "# Lösung für Aufgabe 2\n",
    "summe = 0\n",
    "i = 1\n",
    "while i <= 100:\n",
    "    summe += i\n",
    "    i += 1\n",
    "\n",
    "print(f\"Die Summe der Zahlen von 1 bis 100 beträgt {summe}\")"
   ]
  },
  {
   "cell_type": "markdown",
   "metadata": {},
   "source": [
    "## Aufgabe 3: Erraten einer Zahl\n",
    "\n",
    "Schreibe eine `while`-Schleife, die den Benutzer auffordert, eine Zahl zwischen 1 und 10 zu erraten. Die Schleife sollte so lange fortgesetzt werden, bis der Benutzer die richtige Zahl errät.\n",
    "\n",
    "Hinweis: Verwende die Funktion `input()` und eine vorher festgelegte Zahl zum Erraten, z. B. `7`."
   ]
  },
  {
   "cell_type": "code",
   "execution_count": null,
   "metadata": {},
   "outputs": [],
   "source": [
    "# Lösung für Aufgabe 3\n",
    "zu_erraten = 7\n",
    "geraten = int(input(\"Errate eine Zahl zwischen 1 und 10: \"))\n",
    "\n",
    "while geraten != zu_erraten:\n",
    "    geraten = int(input(\"Falsch, versuche es noch einmal: \"))\n",
    "\n",
    "print(\"Glückwunsch! Du hast die richtige Zahl erraten.\")"
   ]
  },
  {
   "cell_type": "markdown",
   "metadata": {},
   "source": [
    "## Aufgabe 4: Zählen von geraden Zahlen\n",
    "\n",
    "Schreibe eine `while`-Schleife, die die Anzahl der geraden Zahlen zwischen 1 und 20 zählt."
   ]
  },
  {
   "cell_type": "code",
   "execution_count": null,
   "metadata": {},
   "outputs": [],
   "source": [
    "# Lösung für Aufgabe 4\n",
    "i = 1\n",
    "anzahl_gerade = 0\n",
    "\n",
    "while i <= 20:\n",
    "    if i % 2 == 0:\n",
    "        anzahl_gerade += 1\n",
    "    i += 1\n",
    "\n",
    "print(f\"Es gibt {anzahl_gerade} gerade Zahlen zwischen 1 und 20.\")"
   ]
  },
  {
   "cell_type": "markdown",
   "metadata": {},
   "source": [
    "## Aufgabe 5: Berechnung der Fakultät\n",
    "\n",
    "Schreibe eine `while`-Schleife, die die Fakultät einer gegebenen Zahl `n` berechnet. Die Fakultät ist definiert als das Produkt aller positiven ganzen Zahlen bis zu `n` (z.B. ist die Fakultät von 5 gleich 5 * 4 * 3 * 2 * 1 = 120)."
   ]
  },
  {
   "cell_type": "code",
   "execution_count": null,
   "metadata": {},
   "outputs": [],
   "source": [
    "# Lösung für Aufgabe 5\n",
    "n = 5\n",
    "fakultaet = 1\n",
    "i = 1\n",
    "\n",
    "while i <= n:\n",
    "    fakultaet *= i\n",
    "    i += 1\n",
    "\n",
    "print(f\"Die Fakultät von {n} beträgt {fakultaet}\")"
   ]
  },
  {
   "cell_type": "markdown",
   "metadata": {},
   "source": [
    "Zurück zu __[Konstrollstrukturen](http://localhost:8888/notebooks/06_Kontrollstrukturen.ipynb)__\n",
    "\n",
    "Weiter zu __[Listen](http://localhost:8888/notebooks/20_Listen.ipynb)__\n",
    "\n",
    "[Übersicht](http://localhost:8888/notebooks/00_Uebersicht.ipynb)"
   ]
  }
 ],
 "metadata": {
  "kernelspec": {
   "display_name": "Python 3",
   "language": "python",
   "name": "python3"
  },
  "language_info": {
   "codemirror_mode": {
    "name": "ipython",
    "version": 3
   },
   "file_extension": ".py",
   "mimetype": "text/x-python",
   "name": "python",
   "nbconvert_exporter": "python",
   "version": "3.9.7"
  }
 },
 "nbformat": 4,
 "nbformat_minor": 4
}
