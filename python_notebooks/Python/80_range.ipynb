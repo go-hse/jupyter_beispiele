{
  "cells": [
   {
    "cell_type": "markdown",
    "metadata": {},
    "source": [
     "# Erläuterung des `range`-Befehls in Python\n",
     "\n",
     "Der `range`-Befehl in Python erzeugt eine Sequenz von Zahlen. Diese Zahlen können in Schleifen verwendet werden, um bestimmte Aufgaben in einem festgelegten Bereich auszuführen. Der Befehl `range` wird oft in `for`-Schleifen verwendet, um einen Zähler zu erstellen.\n",
     "\n",
     "Die allgemeine Syntax von `range` lautet:\n",
     "\n",
     "```python\n",
     "range(start, stop, step)\n",
     "```\n",
     "- **start** (optional): Der Startwert der Sequenz (einschließlich). Standardmäßig 0.\n",
     "- **stop**: Der Endwert der Sequenz (ausschließlich). Die Sequenz endet, bevor dieser Wert erreicht wird.\n",
     "- **step** (optional): Die Schrittweite zwischen den Werten. Standardmäßig 1.\n",
     "\n",
     "Lassen Sie uns einige Beispiele betrachten."
    ]
   },
   {
    "cell_type": "code",
    "execution_count": 1,
    "metadata": {},
    "outputs": [],
    "source": [
     "# Ein einfaches Beispiel für range\n",
     "for i in range(5):  # Erzeugt eine Sequenz von 0 bis 4\n",
     "    print(i)\n",
     "# Ausgabe: 0, 1, 2, 3, 4"
    ]
   },
   {
    "cell_type": "markdown",
    "metadata": {},
    "source": [
     "In diesem Beispiel beginnt der `range`-Befehl bei 0 (Standardstartwert) und endet bei 5 (ausschließlich). Die Schrittweite beträgt 1, was ebenfalls der Standardwert ist."
    ]
   },
   {
    "cell_type": "code",
    "execution_count": 2,
    "metadata": {},
    "outputs": [],
    "source": [
     "# Verwenden von start und stop in range\n",
     "for i in range(2, 7):  # Erzeugt eine Sequenz von 2 bis 6\n",
     "    print(i)\n",
     "# Ausgabe: 2, 3, 4, 5, 6"
    ]
   },
   {
    "cell_type": "markdown",
    "metadata": {},
    "source": [
     "Hier beginnt die Sequenz bei 2 (Startwert) und endet bei 7 (ausschließlich)."
    ]
   },
   {
    "cell_type": "code",
    "execution_count": 3,
    "metadata": {},
    "outputs": [],
    "source": [
     "# Verwenden von start, stop und step\n",
     "for i in range(1, 10, 2):  # Erzeugt eine Sequenz von 1 bis 9 mit einer Schrittweite von 2\n",
     "    print(i)\n",
     "# Ausgabe: 1, 3, 5, 7, 9"
    ]
   },
   {
    "cell_type": "markdown",
    "metadata": {},
    "source": [
     "In diesem Fall gibt `range(1, 10, 2)` eine Sequenz aus, die bei 1 beginnt und bei 9 endet (10 wird ausgeschlossen), mit einer Schrittweite von 2."
    ]
   },
   {
    "cell_type": "code",
    "execution_count": 4,
    "metadata": {},
    "outputs": [],
    "source": [
     "# Verwenden von range in umgekehrter Reihenfolge\n",
     "for i in range(10, 0, -2):  # Erzeugt eine Sequenz von 10 bis 2 in Schritten von -2\n",
     "    print(i)\n",
     "# Ausgabe: 10, 8, 6, 4, 2"
    ]
   },
   {
    "cell_type": "markdown",
    "metadata": {},
    "source": [
     "Hier wird `range(10, 0, -2)` verwendet, um eine absteigende Sequenz von 10 bis 2 zu erzeugen, mit einer Schrittweite von -2. Die Schleife endet, bevor der Wert 0 erreicht wird."
    ]
   },
   {
    "cell_type": "markdown",
    "metadata": {},
    "source": [
     "## Verwendung von `range` in einer `for`-Schleife\n",
     "\n",
     "`for`-Schleifen sind ein Grundbestandteil in der Programmierung, um wiederholte Aktionen durchzuführen. Der `range`-Befehl ist besonders nützlich, um eine Schleifensteuerung mit Zahlen zu realisieren. Nachfolgend ein einfaches Beispiel:"
    ]
   },
   {
    "cell_type": "code",
    "execution_count": 5,
    "metadata": {},
    "outputs": [],
    "source": [
     "# Beispiel für eine for-Schleife mit range\n",
     "summe = 0\n",
     "for i in range(1, 6):  # Schleife von 1 bis 5\n",
     "    summe += i  # Summe wird in jedem Schleifendurchlauf erhöht\n",
    "print(f'Die Summe von 1 bis 5 ist: {summe}')\n",
    "# Ausgabe: Die Summe von 1 bis 5 ist: 15"
   ]
  },
  {
   "cell_type": "markdown",
   "metadata": {},
   "source": [
    "In diesem Beispiel wird eine `for`-Schleife verwendet, um die Summe der Zahlen von 1 bis 5 zu berechnen. Der `range(1, 6)`-Befehl gibt die Zahlen 1 bis 5 aus, und in jedem Durchlauf der Schleife wird die Variable `summe` um den Wert von `i` erhöht."
   ]
  },
  {
   "cell_type": "code",
   "execution_count": 6,
   "metadata": {},
   "outputs": [],
   "source": [
    "# Iterieren über Listen mit range und len\n",
    "fruits = ['Apfel', 'Banane', 'Kirsche', 'Dattel']\n",
    "for i in range(len(fruits)):\n",
    "    print(f'Frucht {i + 1}: {fruits[i]}')\n",
    "# Ausgabe:\n",
    "# Frucht 1: Apfel\n",
    "# Frucht 2: Banane\n",
    "# Frucht 3: Kirsche\n",
    "# Frucht 4: Dattel"
   ]
  },
  {
   "cell_type": "markdown",
   "metadata": {},
   "source": [
    "Hier verwenden wir `range` zusammen mit der `len`-Funktion, um über die Indizes einer Liste zu iterieren. Dies ist nützlich, wenn Sie sowohl den Index als auch das Element selbst benötigen."
   ]
  },
  {
   "cell_type": "markdown",
   "metadata": {},
   "source": [
    "## Wichtige Punkte zur Verwendung von `range`\n",
    "\n",
    "- Der `range`-Befehl ist eine der effizientesten Möglichkeiten, eine Sequenz von Zahlen zu erzeugen.\n",
    "- In Python 3 erzeugt `range()` ein spezielles `range`-Objekt, das die Zahlen erst beim Durchlaufen erzeugt. Dies macht es speichereffizient.\n",
    "- `range()` wird am häufigsten in `for`-Schleifen verwendet, aber es kann auch direkt in anderen Kontexten genutzt werden."
   ]
  }
 ],
 "metadata": {
  "kernelspec": {
   "display_name": "Python 3",
   "language": "python",
   "name": "python3"
  },
  "language_info": {
   "codemirror_mode": {
    "name": "ipython",
    "version": 3
   },
   "file_extension": ".py",
   "mimetype": "text/x-python",
   "name": "python",
   "nbconvert_exporter": "python",
   "pygments_lexer": "ipython3",
   "version": "3.8.5"
  }
 },
 "nbformat": 4,
 "nbformat_minor": 5
}
 